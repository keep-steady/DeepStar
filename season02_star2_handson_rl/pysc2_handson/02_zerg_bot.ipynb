{
 "cells": [
  {
   "cell_type": "markdown",
   "metadata": {},
   "source": [
    "# Main Reference\n",
    "\n",
    "- [How To: PySC2](https://github.com/skjb/pysc2-tutorial)\n",
    "- 목표: 자신의 SC2 봇 만들기\n",
    "- 여기에서는 일단 저그로 기술\n",
    "- 작성: 조남운\n",
    "\n",
    "# 목차\n",
    "## (Building a Basic Agent)[https://itnext.io/build-a-zerg-bot-with-pysc2-2-0-295375d2f58e]\n",
    "## Building a Simple RL Agent\n",
    "## Add Smart Attacking to Your Agent\n",
    "## Building a Sparse Reward Agent\n",
    "## Refine Your Sparse PySC2 Agent"
   ]
  },
  {
   "cell_type": "markdown",
   "metadata": {},
   "source": [
    "# Building a Zerg Bot with PySC2 2.0\n",
    "\n",
    "- [Link](https://chatbotslife.com/building-a-basic-pysc2-agent-b109cde1477c) 구버젼 (pysc2 ver1.x) 테란 \n",
    "- 원저자가 PySC2 2.0 버젼으로 문서를 업데이트하면서 저그로 만듦 [Link](https://itnext.io/build-a-zerg-bot-with-pysc2-2-0-295375d2f58e)"
   ]
  },
  {
   "cell_type": "markdown",
   "metadata": {},
   "source": [
    "## Creating the Basic Agent\n",
    "### Overall Process\n",
    "\n",
    "- Importing Essential Modules --> Add the Run Code --> Select a Drone --> Build a Spawning Pool --> Build Zerglings --> Spawn More Overloads --> Attack!\n",
    "- 주의사항: 아래 코드는 튜토리얼 특성상 부분 실행보다는 통으로 실행하길 권장\n",
    "\n",
    "### Importing Essential Modules"
   ]
  },
  {
   "cell_type": "markdown",
   "metadata": {},
   "source": [
    "```pyrhon\n",
    "from pysc2.agents import base_agent\n",
    "from pysc2.env import sc2_env\n",
    "from pysc2.lib import actions, features\n",
    "from absl import app\n",
    "```"
   ]
  },
  {
   "cell_type": "markdown",
   "metadata": {},
   "source": [
    "### Creating Agent"
   ]
  },
  {
   "cell_type": "markdown",
   "metadata": {},
   "source": [
    "```python\n",
    "class ZergAgent(base_agent.BaseAgent):\n",
    "  def step(self, obs):\n",
    "    super(ZergAgent, self).step(obs)\n",
    "    \n",
    "    return actions.FUNCTIONS.no_op()\n",
    "```"
   ]
  },
  {
   "cell_type": "markdown",
   "metadata": {},
   "source": [
    "- The ```step``` method is the core part of our agent, ***it’s where all of our decision making takes place.*** ***At the end of every step you must return an action,*** in this case the action is to do nothing. We will add some more actions soon.\n",
    "- If you followed my previous tutorials you will notice that the format for the action has changed, previously the last line would have been:"
   ]
  },
  {
   "cell_type": "markdown",
   "metadata": {},
   "source": [
    "### Add the Run Code"
   ]
  },
  {
   "cell_type": "markdown",
   "metadata": {},
   "source": [
    "```python\n",
    "def main(unused_argv):\n",
    "    agent = ZergAgent()\n",
    "    try:\n",
    "        while True:\n",
    "            with sc2_env.SC2Env(\n",
    "                map_name=\"Automaton\", # 맵을 오토메이톤으로 세팅\n",
    "                players=[sc2_env.Agent(sc2_env.Race.zerg), # 저그종족.\n",
    "                       # 다른 선택 가능 종족은 protoss, terran, random 이 있음\n",
    "                    sc2_env.Bot(sc2_env.Race.random,\n",
    "                        sc2_env.Difficulty.very_easy)],\n",
    "                        # 상대를 Bot으로 할 것이며, 종족은 random, 난이도는 매우 쉬움\n",
    "                        # 여기에 다른 agent를 설정할 수 있음\n",
    "                    agent_interface_format=features.AgentInterfaceFormat(\n",
    "                        feature_dimensions=features.Dimensions(screen=84, minimap=64)),\n",
    "                        step_mul=16,\n",
    "                        # 액션 설정. 8 -> 300APM, 16 --> 150APM \n",
    "                        game_steps_per_episode=0,\n",
    "                        # 디폴트는 30분인데, 여기에서는 endless로 설정\n",
    "                        visualize=True) as env:\n",
    "                        # 스크린과 미니맵 해상도 설정\n",
    "                        # PySC2 2.0에서는 RGB 레이어를 추가할 수 있음 \n",
    "                agent.setup(env.observation_spec(), env.action_spec())\n",
    "\n",
    "                timesteps = env.reset()\n",
    "                agent.reset()\n",
    "\n",
    "                while True:\n",
    "                    step_actions = [agent.step(timesteps[0])]\n",
    "                    if timesteps[0].last():\n",
    "                        break\n",
    "                    timesteps = env.step(step_actions)\n",
    "      \n",
    "    except KeyboardInterrupt:\n",
    "        pass\n",
    "  \n",
    "    if __name__ == \"__main__\":\n",
    "        app.run(main)\n",
    "```"
   ]
  },
  {
   "cell_type": "markdown",
   "metadata": {},
   "source": [
    "- 실행전에 ```[Startraft2 root]/Maps/Ladder2019Season1/``` 폴더 등 필요 맵을 복사해야 함. \n",
    "- 존재하지 않는 경우 에러 메시지를 보고 블리자드 [SC2 API 링크](https://github.com/Blizzard/s2client-proto#map-packs)에서 연도 시즌에 맞는 맵 다운받아 SC2 루트/Maps 폴더에 폴더채로 복사할 것. 비번은 ```iagreetotheeula```\n",
    "- ```python zerg_agent.py``` 실행\n",
    "- zerg_agent.py 파일은 본 문서가 있는 폴더에 있음. "
   ]
  },
  {
   "cell_type": "code",
   "execution_count": 2,
   "metadata": {},
   "outputs": [
    {
     "name": "stdout",
     "output_type": "stream",
     "text": [
      "pygame 1.9.6\n",
      "Hello from the pygame community. https://www.pygame.org/contribute.html\n",
      "I0513 13:50:02.753172 4510275008 sc_process.py:110] Launching SC2: /Applications/StarCraft II/Versions/Base73620/SC2.app/Contents/MacOS/SC2 -listen 127.0.0.1 -port 19032 -dataDir /Applications/StarCraft II/ -tempDir /var/folders/bd/ly13_3254l11f2tvqcmxz6m80000gn/T/sc-4h4k7gzb/ -displayMode 0 -windowwidth 640 -windowheight 480 -windowx 50 -windowy 50\n",
      "I0513 13:50:02.757523 4510275008 remote_controller.py:163] Connecting to: ws://127.0.0.1:19032/sc2api, attempt: 0, running: True\n",
      "I0513 13:50:03.765454 4510275008 remote_controller.py:163] Connecting to: ws://127.0.0.1:19032/sc2api, attempt: 1, running: True\n",
      "I0513 13:50:04.773615 4510275008 remote_controller.py:163] Connecting to: ws://127.0.0.1:19032/sc2api, attempt: 2, running: True\n",
      "err = 3 /opt/blizzard/buildserver/data.noindex/repositories/sc2/branches/SC2.4.8.d/Game/Contrib/macteam/libs/ClampCursor/Contrib/mach_override/mach_override.c:244\n",
      "err = 3 /opt/blizzard/buildserver/data.noindex/repositories/sc2/branches/SC2.4.8.d/Game/Contrib/macteam/libs/ClampCursor/Contrib/mach_override/mach_override.c:258\n",
      "err = 3 /opt/blizzard/buildserver/data.noindex/repositories/sc2/branches/SC2.4.8.d/Game/Contrib/macteam/libs/ClampCursor/Contrib/mach_override/mach_override.c:263\n",
      "I0513 13:50:05.786390 4510275008 remote_controller.py:163] Connecting to: ws://127.0.0.1:19032/sc2api, attempt: 3, running: True\n",
      "I0513 13:50:06.790906 4510275008 remote_controller.py:163] Connecting to: ws://127.0.0.1:19032/sc2api, attempt: 4, running: True\n",
      "I0513 13:50:07.793329 4510275008 remote_controller.py:163] Connecting to: ws://127.0.0.1:19032/sc2api, attempt: 5, running: True\n",
      "I0513 13:50:08.798021 4510275008 remote_controller.py:163] Connecting to: ws://127.0.0.1:19032/sc2api, attempt: 6, running: True\n",
      "I0513 13:50:09.801822 4510275008 remote_controller.py:163] Connecting to: ws://127.0.0.1:19032/sc2api, attempt: 7, running: True\n",
      "I0513 13:50:10.802499 4510275008 remote_controller.py:163] Connecting to: ws://127.0.0.1:19032/sc2api, attempt: 8, running: True\n",
      "I0513 13:50:11.804176 4510275008 remote_controller.py:163] Connecting to: ws://127.0.0.1:19032/sc2api, attempt: 9, running: True\n",
      "I0513 13:50:12.806157 4510275008 remote_controller.py:163] Connecting to: ws://127.0.0.1:19032/sc2api, attempt: 10, running: True\n",
      "I0513 13:50:13.808491 4510275008 remote_controller.py:163] Connecting to: ws://127.0.0.1:19032/sc2api, attempt: 11, running: True\n",
      "I0513 13:50:14.812576 4510275008 remote_controller.py:163] Connecting to: ws://127.0.0.1:19032/sc2api, attempt: 12, running: True\n",
      "I0513 13:50:15.813605 4510275008 remote_controller.py:163] Connecting to: ws://127.0.0.1:19032/sc2api, attempt: 13, running: True\n",
      "I0513 13:50:28.055520 4510275008 sc2_env.py:322] Environment is ready on map: Automaton\n",
      "I0513 13:50:28.056013 4510275008 sc2_env.py:462] Starting episode: 1\n",
      "^C\n",
      "I0513 13:50:42.937904 4510275008 sc2_env.py:656] Environment Close\n"
     ]
    }
   ],
   "source": [
    "!python zerg_agent.py"
   ]
  },
  {
   "cell_type": "markdown",
   "metadata": {},
   "source": [
    "### Select a Drone\n",
    "- 최초 공격 유닛인 저글링을 생산하기 전 단계로 필요 건물인 스포닝 풀(산란못)이 필요함. 저그의 경우에는 건물을 드론(일벌레)이 변태하는 방식으로 짓기 때문에 이를 위해서 필요한 최초 행동은 드론을 선택하는 것임"
   ]
  },
  {
   "cell_type": "markdown",
   "metadata": {},
   "source": [
    "```python\n",
    "from pysc2.lib import actions, features, units\n",
    "import random\n",
    "```"
   ]
  },
  {
   "cell_type": "markdown",
   "metadata": {},
   "source": [
    "- feature unit 사용가능하게 만들기"
   ]
  },
  {
   "cell_type": "markdown",
   "metadata": {},
   "source": [
    "```python\n",
    "        agent_interface_format=features.AgentInterfaceFormat(\n",
    "            feature_dimensions=features.Dimensions(screen=84, minimap=64),\n",
    "            use_feature_units=True),\n",
    "    ```"
   ]
  },
  {
   "cell_type": "markdown",
   "metadata": {},
   "source": [
    "- step() 안에 화면내 모든 드론 (일벌레)의 리스트를 포착"
   ]
  },
  {
   "cell_type": "markdown",
   "metadata": {},
   "source": [
    "```python\n",
    "def step(self, obs):\n",
    "    super(ZergAgent, self).step(obs)\n",
    "  \n",
    "    drones = [unit for unit in obs.observation.feature_units\n",
    "              if unit.unit_type == units.Zerg.Drone]\n",
    "    if len(drones) > 0:\n",
    "        drone = random.choice(drones)\n",
    "        return actions.FUNCTIONS.select_point(\"select_all_type\", (drone.x, drone.y))\n",
    "    ```"
   ]
  },
  {
   "cell_type": "markdown",
   "metadata": {},
   "source": [
    "- 일벌레 중에 아무거나 하나 집기. 이것은 게임 내에서 <kbd>CTRL</kbd> + 클릭과 동일함"
   ]
  },
  {
   "cell_type": "markdown",
   "metadata": {},
   "source": [
    "### Build a Spawning Pool"
   ]
  },
  {
   "cell_type": "markdown",
   "metadata": {},
   "source": [
    "```python\n",
    "  def unit_type_is_selected(self, obs, unit_type):\n",
    "    if (len(obs.observation.single_select) > 0 and\n",
    "        obs.observation.single_select[0].unit_type == unit_type):\n",
    "      return True\n",
    "    \n",
    "    if (len(obs.observation.multi_select) > 0 and\n",
    "        obs.observation.multi_select[0].unit_type == unit_type):\n",
    "      return True\n",
    "    \n",
    "    return False\n",
    "```"
   ]
  },
  {
   "cell_type": "markdown",
   "metadata": {},
   "source": [
    "- ```unit_type_is_selected()```는 리스트 중 첫번째 유닛이 원하는 타입인지 체크함\n",
    "- ```step()``` 에서 사용할 것임"
   ]
  },
  {
   "cell_type": "markdown",
   "metadata": {},
   "source": [
    "```python\n",
    "  def step(self, obs):\n",
    "    super(ZergAgent, self).step(obs)\n",
    "    \n",
    "    if self.unit_type_is_selected(obs, units.Zerg.Drone):\n",
    "        if (actions.FUNCTIONS.Build_SpawningPool_screen.id in \n",
    "          obs.observation.available_actions):\n",
    "                \n",
    "            x = random.randint(0, 83)\n",
    "            y = random.randint(0, 83)\n",
    "        \n",
    "        return actions.FUNCTIONS.Build_SpawningPool_screen(\"now\", (x, y))\n",
    "    ```"
   ]
  },
  {
   "cell_type": "markdown",
   "metadata": {},
   "source": [
    "- 크립위이길 바라며 랜덤 포인트를 선정 --> 스포닝 풀을 짓기. \n",
    "- 몇 가지 상황이 있을 수 있음 (자원부족, 크립 위가 아님, 다른 건물과 겹침, 지상 유닛이 그 위에 있음 등)\n",
    "- 또한 스포닝 풀이 여러개 건설 가능한 관계로 무척 많은 스포닝 풀이 건설될 가능성도 있음. 이를 피하기 위해서 아래 코드를 사용"
   ]
  },
  {
   "cell_type": "markdown",
   "metadata": {},
   "source": [
    "```python\n",
    "  def get_units_by_type(self, obs, unit_type):\n",
    "    return [unit for unit in obs.observation.feature_units\n",
    "            if unit.unit_type == unit_type]\n",
    "```"
   ]
  },
  {
   "cell_type": "markdown",
   "metadata": {},
   "source": [
    "- 그러한 결과는 아래와 같음\n",
    "```python\n",
    "    spawning_pools = self.get_units_by_type(obs, units.Zerg.SpawningPool)\n",
    "    if len(spawning_pools) == 0:\n",
    "      if self.unit_type_is_selected(obs, units.Zerg.Drone):\n",
    "        if (actions.FUNCTIONS.Build_SpawningPool_screen.id in \n",
    "            obs.observation.available_actions):\n",
    "          x = random.randint(0, 83)\n",
    "          y = random.randint(0, 83)\n",
    "          \n",
    "          return actions.FUNCTIONS.Build_SpawningPool_screen(\"now\", (x, y))\n",
    "        \n",
    "      drones = self.get_units_by_type(obs, units.Zerg.Drone)\n",
    "      if len(drones) > 0:\n",
    "        drone = random.choice(drones)\n",
    "\n",
    "        return actions.FUNCTIONS.select_point(\"select_all_type\", (drone.x,\n",
    "                                                                  drone.y))\n",
    "```\n",
    "- 전체 코드는 아래와 같음 (```> python zerg_agent_step4.py```)\n",
    "- 맵이 없다고 하면 콘솔 잘 보고 [블리자드 SC2 API 링크에서 해당 맵 다운로드](https://github.com/Blizzard/s2client-proto#map-packs) 하여 Maps 폴더 설치"
   ]
  },
  {
   "cell_type": "code",
   "execution_count": 3,
   "metadata": {},
   "outputs": [
    {
     "name": "stdout",
     "output_type": "stream",
     "text": [
      "pygame 1.9.6\n",
      "Hello from the pygame community. https://www.pygame.org/contribute.html\n",
      "I0513 13:50:54.746110 4672697792 sc_process.py:110] Launching SC2: /Applications/StarCraft II/Versions/Base73620/SC2.app/Contents/MacOS/SC2 -listen 127.0.0.1 -port 15514 -dataDir /Applications/StarCraft II/ -tempDir /var/folders/bd/ly13_3254l11f2tvqcmxz6m80000gn/T/sc-b3ckuc9l/ -displayMode 0 -windowwidth 640 -windowheight 480 -windowx 50 -windowy 50\n",
      "I0513 13:50:54.751660 4672697792 remote_controller.py:163] Connecting to: ws://127.0.0.1:15514/sc2api, attempt: 0, running: True\n",
      "I0513 13:50:55.757968 4672697792 remote_controller.py:163] Connecting to: ws://127.0.0.1:15514/sc2api, attempt: 1, running: True\n",
      "I0513 13:50:56.759496 4672697792 remote_controller.py:163] Connecting to: ws://127.0.0.1:15514/sc2api, attempt: 2, running: True\n",
      "err = 3 /opt/blizzard/buildserver/data.noindex/repositories/sc2/branches/SC2.4.8.d/Game/Contrib/macteam/libs/ClampCursor/Contrib/mach_override/mach_override.c:244\n",
      "err = 3 /opt/blizzard/buildserver/data.noindex/repositories/sc2/branches/SC2.4.8.d/Game/Contrib/macteam/libs/ClampCursor/Contrib/mach_override/mach_override.c:258\n",
      "err = 3 /opt/blizzard/buildserver/data.noindex/repositories/sc2/branches/SC2.4.8.d/Game/Contrib/macteam/libs/ClampCursor/Contrib/mach_override/mach_override.c:263\n",
      "I0513 13:50:57.763152 4672697792 remote_controller.py:163] Connecting to: ws://127.0.0.1:15514/sc2api, attempt: 3, running: True\n",
      "I0513 13:50:58.767695 4672697792 remote_controller.py:163] Connecting to: ws://127.0.0.1:15514/sc2api, attempt: 4, running: True\n",
      "I0513 13:50:59.773169 4672697792 remote_controller.py:163] Connecting to: ws://127.0.0.1:15514/sc2api, attempt: 5, running: True\n",
      "I0513 13:51:00.777256 4672697792 remote_controller.py:163] Connecting to: ws://127.0.0.1:15514/sc2api, attempt: 6, running: True\n",
      "I0513 13:51:01.777798 4672697792 remote_controller.py:163] Connecting to: ws://127.0.0.1:15514/sc2api, attempt: 7, running: True\n",
      "I0513 13:51:02.780724 4672697792 remote_controller.py:163] Connecting to: ws://127.0.0.1:15514/sc2api, attempt: 8, running: True\n",
      "I0513 13:51:03.782832 4672697792 remote_controller.py:163] Connecting to: ws://127.0.0.1:15514/sc2api, attempt: 9, running: True\n",
      "I0513 13:51:04.785733 4672697792 remote_controller.py:163] Connecting to: ws://127.0.0.1:15514/sc2api, attempt: 10, running: True\n",
      "I0513 13:51:05.788911 4672697792 remote_controller.py:163] Connecting to: ws://127.0.0.1:15514/sc2api, attempt: 11, running: True\n",
      "I0513 13:51:06.790210 4672697792 remote_controller.py:163] Connecting to: ws://127.0.0.1:15514/sc2api, attempt: 12, running: True\n",
      "I0513 13:51:18.254972 4672697792 sc2_env.py:322] Environment is ready on map: AbyssalReef\n",
      "I0513 13:51:18.255479 4672697792 sc2_env.py:462] Starting episode: 1\n",
      "^C\n",
      "I0513 13:52:05.432275 4672697792 sc2_env.py:656] Environment Close\n"
     ]
    }
   ],
   "source": [
    "!python zerg_agent_step4.py"
   ]
  },
  {
   "cell_type": "markdown",
   "metadata": {},
   "source": [
    "```python\n",
    "from pysc2.agents import base_agent\n",
    "from pysc2.env import sc2_env\n",
    "from pysc2.lib import actions, features, units\n",
    "from absl import app\n",
    "import random\n",
    "\n",
    "class ZergAgent(base_agent.BaseAgent):\n",
    "  def unit_type_is_selected(self, obs, unit_type):\n",
    "    if (len(obs.observation.single_select) > 0 and\n",
    "        obs.observation.single_select[0].unit_type == unit_type):\n",
    "      return True\n",
    "    \n",
    "    if (len(obs.observation.multi_select) > 0 and\n",
    "        obs.observation.multi_select[0].unit_type == unit_type):\n",
    "      return True\n",
    "    \n",
    "    return False\n",
    "\n",
    "  def get_units_by_type(self, obs, unit_type):\n",
    "    return [unit for unit in obs.observation.feature_units\n",
    "            if unit.unit_type == unit_type]\n",
    "  \n",
    "  def step(self, obs):\n",
    "    super(ZergAgent, self).step(obs)\n",
    "    \n",
    "    spawning_pools = self.get_units_by_type(obs, units.Zerg.SpawningPool)\n",
    "    if len(spawning_pools) == 0:\n",
    "      if self.unit_type_is_selected(obs, units.Zerg.Drone):\n",
    "        if (actions.FUNCTIONS.Build_SpawningPool_screen.id in \n",
    "            obs.observation.available_actions):\n",
    "          x = random.randint(0, 83)\n",
    "          y = random.randint(0, 83)\n",
    "          \n",
    "          return actions.FUNCTIONS.Build_SpawningPool_screen(\"now\", (x, y))\n",
    "    \n",
    "      drones = self.get_units_by_type(obs, units.Zerg.Drone)\n",
    "      if len(drones) > 0:\n",
    "        drone = random.choice(drones)\n",
    "\n",
    "        return actions.FUNCTIONS.select_point(\"select_all_type\", (drone.x,\n",
    "                                                                  drone.y))\n",
    "    \n",
    "    return actions.FUNCTIONS.no_op()\n",
    "\n",
    "def main(unused_argv):\n",
    "  agent = ZergAgent()\n",
    "  try:\n",
    "    while True:\n",
    "      with sc2_env.SC2Env(\n",
    "          map_name=\"AbyssalReef\",\n",
    "          players=[sc2_env.Agent(sc2_env.Race.zerg),\n",
    "                   sc2_env.Bot(sc2_env.Race.random,\n",
    "                               sc2_env.Difficulty.very_easy)],\n",
    "          agent_interface_format=features.AgentInterfaceFormat(\n",
    "              feature_dimensions=features.Dimensions(screen=84, minimap=64),\n",
    "              use_feature_units=True),\n",
    "          step_mul=16,\n",
    "          game_steps_per_episode=0,\n",
    "          visualize=True) as env:\n",
    "          \n",
    "        agent.setup(env.observation_spec(), env.action_spec())\n",
    "        \n",
    "        timesteps = env.reset()\n",
    "        agent.reset()\n",
    "        \n",
    "        while True:\n",
    "          step_actions = [agent.step(timesteps[0])]\n",
    "          if timesteps[0].last():\n",
    "            break\n",
    "          timesteps = env.step(step_actions)\n",
    "      \n",
    "  except KeyboardInterrupt:\n",
    "    pass\n",
    "  \n",
    "if __name__ == \"__main__\":\n",
    "  app.run(main)\n",
    "```"
   ]
  },
  {
   "cell_type": "markdown",
   "metadata": {},
   "source": [
    "### Build Zerglings\n",
    "\n",
    "- 스포닝풀 (산란못)이 완성되면 저글링 만들 준비가 됨. \n",
    "- 저그유닛은 해처리(부화장)에서 시간마다 생성되는 라바(애벌래)를 선택하여 원하는 가능한 유닛을 변태하는 과정으로 생성이 진행됨\n",
    "- 따라서 이를 위해 필요한 첫 행동은 모든 라바를 선택하는 것임\n",
    "```python\n",
    "\n",
    "    larvae = self.get_units_by_type(obs, units.Zerg.Larva)\n",
    "    if len(larvae) > 0:\n",
    "      larva = random.choice(larvae)\n",
    "      \n",
    "      return actions.FUNCTIONS.select_point(\"select_all_type\",\n",
    "                                            (larva.x, larva.y))```\n",
    "- 저글링을 만드는 코드는 다음과 같이 설정\n",
    "```python\n",
    "\n",
    "    if self.unit_type_is_selected(obs, units.Zerg.Larva):\n",
    "      if (actions.FUNCTIONS.Train_Zergling_quick.id in \n",
    "          obs.observation.available_actions):\n",
    "        return actions.FUNCTIONS.Train_Zergling_quick(\"now\")\n",
    "```\n",
    "\n",
    "### Spawn More Overloads\n",
    "- 인구수가 부족할 경우 유닛 생성이 안되므로 저그의 인구수 증가를 위해 오버로드 (대군주)를 일부 변태시켜야 함\n",
    "```python\n",
    "\n",
    "      free_supply = (obs.observation.player.food_cap -\n",
    "                     obs.observation.player.food_used)\n",
    "      if free_supply == 0:\n",
    "        if (actions.FUNCTIONS.Train_Overlord_quick.id in\n",
    "            obs.observation.available_actions):\n",
    "          return actions.FUNCTIONS.Train_Overlord_quick(\"now\")\n",
    "```\n",
    "- 행동이 가능한지 체크하는 함수\n",
    "```python\n",
    "\n",
    "  def can_do(self, obs, action):\n",
    "    return action in obs.observation.available_actions\n",
    "```\n",
    "- 이 함수를 앞에서 사용했던 액션에 모두 적용 (불가능할 경우 하지 않게 하기 위해서임). 예를 들면:\n",
    "```python\n",
    "if self.can_do(obs, actions.FUNCTIONS.Build_SpawningPool_screen.id):\n",
    "```\n",
    "여기까지의 전체 코드는 다음과 같음. ```> python zerg_agent_step6.py```"
   ]
  },
  {
   "cell_type": "code",
   "execution_count": 6,
   "metadata": {},
   "outputs": [
    {
     "name": "stdout",
     "output_type": "stream",
     "text": [
      "pygame 1.9.6\n",
      "Hello from the pygame community. https://www.pygame.org/contribute.html\n",
      "I0513 13:56:11.736336 4593272256 sc_process.py:110] Launching SC2: /Applications/StarCraft II/Versions/Base73620/SC2.app/Contents/MacOS/SC2 -listen 127.0.0.1 -port 17402 -dataDir /Applications/StarCraft II/ -tempDir /var/folders/bd/ly13_3254l11f2tvqcmxz6m80000gn/T/sc-ee9o7fgr/ -displayMode 0 -windowwidth 640 -windowheight 480 -windowx 50 -windowy 50\n",
      "I0513 13:56:11.741255 4593272256 remote_controller.py:163] Connecting to: ws://127.0.0.1:17402/sc2api, attempt: 0, running: True\n",
      "I0513 13:56:12.750207 4593272256 remote_controller.py:163] Connecting to: ws://127.0.0.1:17402/sc2api, attempt: 1, running: True\n",
      "I0513 13:56:13.753158 4593272256 remote_controller.py:163] Connecting to: ws://127.0.0.1:17402/sc2api, attempt: 2, running: True\n",
      "err = 3 /opt/blizzard/buildserver/data.noindex/repositories/sc2/branches/SC2.4.8.d/Game/Contrib/macteam/libs/ClampCursor/Contrib/mach_override/mach_override.c:244\n",
      "err = 3 /opt/blizzard/buildserver/data.noindex/repositories/sc2/branches/SC2.4.8.d/Game/Contrib/macteam/libs/ClampCursor/Contrib/mach_override/mach_override.c:258\n",
      "err = 3 /opt/blizzard/buildserver/data.noindex/repositories/sc2/branches/SC2.4.8.d/Game/Contrib/macteam/libs/ClampCursor/Contrib/mach_override/mach_override.c:263\n",
      "I0513 13:56:14.754758 4593272256 remote_controller.py:163] Connecting to: ws://127.0.0.1:17402/sc2api, attempt: 3, running: True\n",
      "I0513 13:56:15.759254 4593272256 remote_controller.py:163] Connecting to: ws://127.0.0.1:17402/sc2api, attempt: 4, running: True\n",
      "I0513 13:56:16.763453 4593272256 remote_controller.py:163] Connecting to: ws://127.0.0.1:17402/sc2api, attempt: 5, running: True\n",
      "I0513 13:56:17.766126 4593272256 remote_controller.py:163] Connecting to: ws://127.0.0.1:17402/sc2api, attempt: 6, running: True\n",
      "I0513 13:56:18.770658 4593272256 remote_controller.py:163] Connecting to: ws://127.0.0.1:17402/sc2api, attempt: 7, running: True\n",
      "I0513 13:56:19.771623 4593272256 remote_controller.py:163] Connecting to: ws://127.0.0.1:17402/sc2api, attempt: 8, running: True\n",
      "I0513 13:56:20.775671 4593272256 remote_controller.py:163] Connecting to: ws://127.0.0.1:17402/sc2api, attempt: 9, running: True\n",
      "I0513 13:56:21.780471 4593272256 remote_controller.py:163] Connecting to: ws://127.0.0.1:17402/sc2api, attempt: 10, running: True\n",
      "I0513 13:56:22.782050 4593272256 remote_controller.py:163] Connecting to: ws://127.0.0.1:17402/sc2api, attempt: 11, running: True\n",
      "I0513 13:56:23.786495 4593272256 remote_controller.py:163] Connecting to: ws://127.0.0.1:17402/sc2api, attempt: 12, running: True\n",
      "I0513 13:56:34.487765 4593272256 sc2_env.py:322] Environment is ready on map: AbyssalReef\n",
      "I0513 13:56:34.488279 4593272256 sc2_env.py:462] Starting episode: 1\n",
      "^C\n",
      "I0513 13:57:40.069562 4593272256 sc2_env.py:656] Environment Close\n"
     ]
    }
   ],
   "source": [
    "!python zerg_agent_step6.py"
   ]
  },
  {
   "cell_type": "markdown",
   "metadata": {},
   "source": [
    "```python\n",
    "from pysc2.agents import base_agent\n",
    "from pysc2.env import sc2_env\n",
    "from pysc2.lib import actions, features, units\n",
    "from absl import app\n",
    "import random\n",
    "\n",
    "class ZergAgent(base_agent.BaseAgent):\n",
    "  def unit_type_is_selected(self, obs, unit_type):\n",
    "    if (len(obs.observation.single_select) > 0 and\n",
    "        obs.observation.single_select[0].unit_type == unit_type):\n",
    "      return True\n",
    "    \n",
    "    if (len(obs.observation.multi_select) > 0 and\n",
    "        obs.observation.multi_select[0].unit_type == unit_type):\n",
    "      return True\n",
    "    \n",
    "    return False\n",
    "\n",
    "  def get_units_by_type(self, obs, unit_type):\n",
    "    return [unit for unit in obs.observation.feature_units\n",
    "            if unit.unit_type == unit_type]\n",
    "  \n",
    "  def can_do(self, obs, action):\n",
    "    return action in obs.observation.available_actions\n",
    "\n",
    "  def step(self, obs):\n",
    "    super(ZergAgent, self).step(obs)\n",
    "    \n",
    "    spawning_pools = self.get_units_by_type(obs, units.Zerg.SpawningPool)\n",
    "    if len(spawning_pools) == 0:\n",
    "      if self.unit_type_is_selected(obs, units.Zerg.Drone):\n",
    "        if self.can_do(obs, actions.FUNCTIONS.Build_SpawningPool_screen.id):\n",
    "          x = random.randint(0, 83)\n",
    "          y = random.randint(0, 83)\n",
    "          \n",
    "          return actions.FUNCTIONS.Build_SpawningPool_screen(\"now\", (x, y))\n",
    "    \n",
    "      drones = self.get_units_by_type(obs, units.Zerg.Drone)\n",
    "      if len(drones) > 0:\n",
    "        drone = random.choice(drones)\n",
    "\n",
    "        return actions.FUNCTIONS.select_point(\"select_all_type\", (drone.x,\n",
    "                                                                  drone.y))\n",
    "    \n",
    "    if self.unit_type_is_selected(obs, units.Zerg.Larva):\n",
    "      free_supply = (obs.observation.player.food_cap -\n",
    "                     obs.observation.player.food_used)\n",
    "      if free_supply == 0:\n",
    "        if self.can_do(obs, actions.FUNCTIONS.Train_Overlord_quick.id):\n",
    "          return actions.FUNCTIONS.Train_Overlord_quick(\"now\")\n",
    "\n",
    "      if self.can_do(obs, actions.FUNCTIONS.Train_Zergling_quick.id):\n",
    "        return actions.FUNCTIONS.Train_Zergling_quick(\"now\")\n",
    "    \n",
    "    larvae = self.get_units_by_type(oba, units.Zerg.Larva)\n",
    "    if len(larvae) > 0:\n",
    "      larva = random.choice(larvae)\n",
    "      \n",
    "      return actions.FUNCTIONS.select_point(\"select_all_type\", (larva.x,\n",
    "                                                                larva.y))\n",
    "    \n",
    "    return actions.FUNCTIONS.no_op()\n",
    "\n",
    "def main(unused_argv):\n",
    "  agent = ZergAgent()\n",
    "  try:\n",
    "    while True:\n",
    "      with sc2_env.SC2Env(\n",
    "          map_name=\"AbyssalReef\",\n",
    "          players=[sc2_env.Agent(sc2_env.Race.zerg),\n",
    "                   sc2_env.Bot(sc2_env.Race.random,\n",
    "                               sc2_env.Difficulty.very_easy)],\n",
    "          agent_interface_format=features.AgentInterfaceFormat(\n",
    "              feature_dimensions=features.Dimensions(screen=84, minimap=64),\n",
    "              use_feature_units=True),\n",
    "          step_mul=16,\n",
    "          game_steps_per_episode=0,\n",
    "          visualize=True) as env:\n",
    "          \n",
    "        agent.setup(env.observation_spec(), env.action_spec())\n",
    "        \n",
    "        timesteps = env.reset()\n",
    "        agent.reset()\n",
    "        \n",
    "        while True:\n",
    "          step_actions = [agent.step(timesteps[0])]\n",
    "          if timesteps[0].last():\n",
    "            break\n",
    "          timesteps = env.step(step_actions)\n",
    "      \n",
    "  except KeyboardInterrupt:\n",
    "    pass\n",
    "  \n",
    "if __name__ == \"__main__\":\n",
    "  app.run(main)\n",
    "```"
   ]
  },
  {
   "cell_type": "markdown",
   "metadata": {},
   "source": [
    "### Attack"
   ]
  },
  {
   "cell_type": "markdown",
   "metadata": {},
   "source": [
    "- 공격을 가기 전에 공격 대상 위치를 알아야 함. \n",
    "- 여기에서는 문제를 단순화하기 위해 좌상단 우하단에만 기지가 생성(어비셜 리프 기준. 오토메이톤은 다를 수 있음) 되므로 자기가 어느 위치인지만 파악하여 공격가는 것으로 함. \n",
    "- ```__init()__``` 생성하여 관련 변수 (```attack_coordinates```) 설정\n",
    "\n",
    "```python\n",
    "  def __init__(self):\n",
    "    super(ZergAgent, self).__init__()\n",
    "    \n",
    "    self.attack_coordinates = None\n",
    "```\n",
    "\n",
    "- ```step()``` 를 수정\n",
    "\n",
    "```python\n",
    "  def step(self, obs):\n",
    "    super(ZergAgent, self).step(obs)\n",
    "    \n",
    "    if obs.first():  # 첫 스텝이라면 ==> 우리 유닛들의 중심점 좌표를 구함\n",
    "      player_y, player_x = (obs.observation.feature_minimap.player_relative ==\n",
    "                            features.PlayerRelative.SELF).nonzero()\n",
    "      xmean = player_x.mean()\n",
    "      ymean = player_y.mean()\n",
    "      \n",
    "      if xmean <= 31 and ymean <= 31:\n",
    "        self.attack_coordinates = (49, 49)\n",
    "      else:\n",
    "        self.attack_coordinates = (12, 16)\n",
    "```\n",
    "\n",
    "- 공격 지시\n",
    "\n",
    "```python\n",
    "\n",
    "    zerglings = self.get_units_by_type(obs, units.Zerg.Zergling)\n",
    "    if len(zerglings) > 0:\n",
    "      if self.can_do(obs, actions.FUNCTIONS.select_army.id):\n",
    "        return actions.FUNCTIONS.select_army(\"select\")\n",
    "```\n",
    "\n",
    "- 하지만 이렇게 하면 뽑는 대로 공격감. 따라서 일정 수 이상 모인 뒤에 갈 필요가 있음\n",
    "\n",
    "```python\n",
    "\n",
    "    if len(zerglings) >= 10:\n",
    "```"
   ]
  },
  {
   "cell_type": "markdown",
   "metadata": {},
   "source": [
    "이 파트까지의 내용은 같은 폴더의 zerg_agent_step7.py 에 있음\n",
    "\n",
    "```>python zerg_agent_step7.py```\n"
   ]
  },
  {
   "cell_type": "code",
   "execution_count": null,
   "metadata": {},
   "outputs": [
    {
     "name": "stdout",
     "output_type": "stream",
     "text": [
      "pygame 1.9.6\n",
      "Hello from the pygame community. https://www.pygame.org/contribute.html\n",
      "I0513 13:57:53.564948 4658349504 sc_process.py:110] Launching SC2: /Applications/StarCraft II/Versions/Base73620/SC2.app/Contents/MacOS/SC2 -listen 127.0.0.1 -port 23490 -dataDir /Applications/StarCraft II/ -tempDir /var/folders/bd/ly13_3254l11f2tvqcmxz6m80000gn/T/sc-v32o8ydm/ -displayMode 0 -windowwidth 640 -windowheight 480 -windowx 50 -windowy 50\n",
      "I0513 13:57:53.569695 4658349504 remote_controller.py:163] Connecting to: ws://127.0.0.1:23490/sc2api, attempt: 0, running: True\n",
      "I0513 13:57:54.575295 4658349504 remote_controller.py:163] Connecting to: ws://127.0.0.1:23490/sc2api, attempt: 1, running: True\n",
      "I0513 13:57:55.577562 4658349504 remote_controller.py:163] Connecting to: ws://127.0.0.1:23490/sc2api, attempt: 2, running: True\n",
      "err = 3 /opt/blizzard/buildserver/data.noindex/repositories/sc2/branches/SC2.4.8.d/Game/Contrib/macteam/libs/ClampCursor/Contrib/mach_override/mach_override.c:244\n",
      "err = 3 /opt/blizzard/buildserver/data.noindex/repositories/sc2/branches/SC2.4.8.d/Game/Contrib/macteam/libs/ClampCursor/Contrib/mach_override/mach_override.c:258\n",
      "err = 3 /opt/blizzard/buildserver/data.noindex/repositories/sc2/branches/SC2.4.8.d/Game/Contrib/macteam/libs/ClampCursor/Contrib/mach_override/mach_override.c:263\n",
      "I0513 13:57:56.579329 4658349504 remote_controller.py:163] Connecting to: ws://127.0.0.1:23490/sc2api, attempt: 3, running: True\n",
      "I0513 13:57:57.579839 4658349504 remote_controller.py:163] Connecting to: ws://127.0.0.1:23490/sc2api, attempt: 4, running: True\n",
      "I0513 13:57:58.584731 4658349504 remote_controller.py:163] Connecting to: ws://127.0.0.1:23490/sc2api, attempt: 5, running: True\n",
      "I0513 13:57:59.587108 4658349504 remote_controller.py:163] Connecting to: ws://127.0.0.1:23490/sc2api, attempt: 6, running: True\n",
      "I0513 13:58:00.591009 4658349504 remote_controller.py:163] Connecting to: ws://127.0.0.1:23490/sc2api, attempt: 7, running: True\n",
      "I0513 13:58:01.595510 4658349504 remote_controller.py:163] Connecting to: ws://127.0.0.1:23490/sc2api, attempt: 8, running: True\n",
      "I0513 13:58:02.600217 4658349504 remote_controller.py:163] Connecting to: ws://127.0.0.1:23490/sc2api, attempt: 9, running: True\n",
      "I0513 13:58:03.601525 4658349504 remote_controller.py:163] Connecting to: ws://127.0.0.1:23490/sc2api, attempt: 10, running: True\n",
      "I0513 13:58:04.605333 4658349504 remote_controller.py:163] Connecting to: ws://127.0.0.1:23490/sc2api, attempt: 11, running: True\n",
      "I0513 13:58:05.610414 4658349504 remote_controller.py:163] Connecting to: ws://127.0.0.1:23490/sc2api, attempt: 12, running: True\n",
      "I0513 13:58:06.612976 4658349504 remote_controller.py:163] Connecting to: ws://127.0.0.1:23490/sc2api, attempt: 13, running: True\n",
      "I0513 13:58:17.369506 4658349504 sc2_env.py:322] Environment is ready on map: KairosJunction\n",
      "I0513 13:58:17.369959 4658349504 sc2_env.py:462] Starting episode: 1\n"
     ]
    }
   ],
   "source": [
    "!python zerg_agent_step7.py"
   ]
  },
  {
   "cell_type": "markdown",
   "metadata": {},
   "source": [
    "# 다음 주제\n",
    "\n",
    "- 여기까지는 모두 단순 제어였음\n",
    "- 다음에는 간단한 RL 모듈의 추가 튜토리얼 해설 진행"
   ]
  },
  {
   "cell_type": "code",
   "execution_count": null,
   "metadata": {},
   "outputs": [],
   "source": []
  }
 ],
 "metadata": {
  "kernelspec": {
   "display_name": "Python 3",
   "language": "python",
   "name": "python3"
  },
  "language_info": {
   "codemirror_mode": {
    "name": "ipython",
    "version": 3
   },
   "file_extension": ".py",
   "mimetype": "text/x-python",
   "name": "python",
   "nbconvert_exporter": "python",
   "pygments_lexer": "ipython3",
   "version": "3.7.1"
  }
 },
 "nbformat": 4,
 "nbformat_minor": 2
}
