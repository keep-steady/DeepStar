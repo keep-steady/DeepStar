{
 "cells": [
  {
   "cell_type": "markdown",
   "metadata": {},
   "source": [
    "# SMAC - StarCraft Multi-Agent Challenge\n",
    "\n",
    "- SMAC에 대한 개요는 앞 문서 참고\n",
    "- 한줄 요약하자면, PySC2는 스타 풀게임을 대상으로 한데 반해, SMAC은 개별 전투 태스크의 마이크로 컨트롤에 특화되어 있음. 여기에서 목적하는 바는 MA간의 협력임\n",
    "- 그래서 각 유닛에 한 Agent를 할당함\n",
    "- 이를 위해 SMAC과 함께 PyMARL 을 함께 릴리즈\n",
    "\n",
    "# Quick Start\n",
    "\n",
    "## Install SMAC\n",
    "\n",
    "```bash\n",
    "pip install git+https://github.com/oxwhirl/smac.git\n",
    "```\n",
    "- git clone 에서 설치도 가능\n",
    "```bash\n",
    "git clone https://github.com/oxwhirl/smac.git\n",
    "pip install smac/\n",
    "```\n",
    "\n",
    "## Install SC2\n",
    "\n",
    "- 자세한 설명은 생략한다\n",
    "\n",
    "## SMAC Maps\n",
    "\n",
    "- (SMAC Maps Link)[https://github.com/oxwhirl/smac/files/2760783/SMAC_Maps.zip] 에서 설치하던지, git clone한 경우 smac/env/starcraft2/maps/ 에 있는 ```SMAC_Maps``` 폴더를 복사하던지\n",
    "- 태스크 리스트는 아래 명령으로 확인 가능\n",
    "```bash\n",
    "python -m smac.bin.map_list\n",
    "```\n",
    "## Testing SMAC\n",
    "```bash\n",
    "python -m smac.examples.random_agents\n",
    "```\n",
    "\n"
   ]
  },
  {
   "cell_type": "code",
   "execution_count": null,
   "metadata": {},
   "outputs": [],
   "source": []
  }
 ],
 "metadata": {
  "kernelspec": {
   "display_name": "Python 3",
   "language": "python",
   "name": "python3"
  },
  "language_info": {
   "codemirror_mode": {
    "name": "ipython",
    "version": 3
   },
   "file_extension": ".py",
   "mimetype": "text/x-python",
   "name": "python",
   "nbconvert_exporter": "python",
   "pygments_lexer": "ipython3",
   "version": "3.7.1"
  }
 },
 "nbformat": 4,
 "nbformat_minor": 2
}
