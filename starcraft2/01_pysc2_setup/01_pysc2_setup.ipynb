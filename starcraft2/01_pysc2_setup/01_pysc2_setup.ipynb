{
 "cells": [
  {
   "cell_type": "markdown",
   "metadata": {},
   "source": [
    "# 01. StarCraft II Learning Environment (PySC2) - 환경설정\n",
    "* 싸이그래머 / DeepStar - PySC2\n",
    "* 김무성"
   ]
  },
  {
   "cell_type": "markdown",
   "metadata": {},
   "source": [
    "## 차례 \n",
    "1. 아나콘다 환경 설정 (필수 아님)\n",
    "2. PySC2 설치\n",
    "3. StarCraft II 설치\n",
    "4. Map and Replay Packs 설치\n",
    "5. 설치 확인 및 간단한 예제 실행"
   ]
  },
  {
   "cell_type": "markdown",
   "metadata": {},
   "source": [
    "--------------------------------"
   ]
  },
  {
   "cell_type": "markdown",
   "metadata": {},
   "source": [
    "# 1. 아나콘다 환경 설정 (필수 아님)"
   ]
  },
  {
   "cell_type": "markdown",
   "metadata": {},
   "source": [
    "* https://www.anaconda.com/distribution/\n",
    "* 파이썬 설치 가상환경을 구성할 수 있다면 꼭 아나콘다 사용하지 않아도 됩니다."
   ]
  },
  {
   "cell_type": "markdown",
   "metadata": {},
   "source": [
    "# 2. PySC2 설치"
   ]
  },
  {
   "cell_type": "markdown",
   "metadata": {},
   "source": [
    "#### 참고자료 \n",
    "* https://github.com/deepmind/pysc2 [1]"
   ]
  },
  {
   "cell_type": "markdown",
   "metadata": {},
   "source": [
    "```shell\n",
    "$ pip install --upgrade pip\n",
    "$ pip install pysc2\n",
    "```"
   ]
  },
  {
   "cell_type": "markdown",
   "metadata": {},
   "source": [
    "# 3. StarCraft II 설치 "
   ]
  },
  {
   "cell_type": "markdown",
   "metadata": {},
   "source": [
    "#### 참고자료 \n",
    "* https://github.com/deepmind/pysc2#get-starcraft-ii\n",
    "* 리눅스의 경우는 이번 자료에서는 위 참고링크를 참조할 것. 앞으로 리눅스 환경은 생략."
   ]
  },
  {
   "cell_type": "markdown",
   "metadata": {},
   "source": [
    "Windows/MacOS의 경우\n",
    "* Battle.net 가입 - https://battle.net/\n",
    "* 스타2 무료 체험판 -> 클라이언트 다운로드    "
   ]
  },
  {
   "cell_type": "markdown",
   "metadata": {},
   "source": [
    "<img src=\"figures/sc2_01.jpeg\" width=400 />\n",
    "<img src=\"figures/sc2_02.jpeg\" width=400 />"
   ]
  },
  {
   "cell_type": "markdown",
   "metadata": {},
   "source": [
    "기본 설치 경로는 보통 다음과 같다.\n",
    "```shell\n",
    "Windows: C:\\Program Files (x86)\\StarCraft II\\\n",
    "Mac: /Applications/StarCraft II/\n",
    "On Linux, the installation directory is the folder you extracted the linux package into.\n",
    "```"
   ]
  },
  {
   "cell_type": "markdown",
   "metadata": {},
   "source": [
    "# 4. Map and Replay Packs 설치"
   ]
  },
  {
   "cell_type": "markdown",
   "metadata": {},
   "source": [
    "#### 참고자료\n",
    "* https://github.com/deepmind/pysc2#get-the-maps"
   ]
  },
  {
   "cell_type": "markdown",
   "metadata": {},
   "source": [
    "스타2 기본 설치 디렉토리에 Maps라는 디렉토리를 만든다. 앞으로 이 디렉토리에 Map Pack과 미니게임들을 다운로드하여 압축을 풀어야 한다. \n",
    "\n",
    "```shell\n",
    "StarCraft II/Maps\n",
    "```"
   ]
  },
  {
   "cell_type": "markdown",
   "metadata": {},
   "source": [
    "### Map Pack 다운로드\n",
    "* 다운로드 링크 - https://github.com/Blizzard/s2client-proto#downloads\n",
    "* 해당 링크에서 다음의 2개 Map Pack이 필요하다. \n",
    "    - Ladder 2019 Season 1 - http://blzdistsc2-a.akamaihd.net/MapPacks/Ladder2019Season1.zip\n",
    "    - Melee - http://blzdistsc2-a.akamaihd.net/MapPacks/Melee.zip\n",
    "* 이 팩들은 압축을 풀 때 암호를 물어본다. \n",
    "    - 패스워드 : 'iagreetotheeula'\n",
    "    - (참고) https://github.com/Blizzard/s2client-proto#downloads"
   ]
  },
  {
   "cell_type": "markdown",
   "metadata": {},
   "source": [
    "### Mini Games 다운로드 \n",
    "* 다운로드 링크 - https://github.com/deepmind/pysc2/releases/download/v1.2/mini_games.zip"
   ]
  },
  {
   "cell_type": "markdown",
   "metadata": {},
   "source": [
    "# 5. 설치 확인 및 간단한 예제 실행"
   ]
  },
  {
   "cell_type": "markdown",
   "metadata": {},
   "source": [
    "### List the maps"
   ]
  },
  {
   "cell_type": "markdown",
   "metadata": {},
   "source": [
    "```shell\n",
    "$ python -m pysc2.bin.map_list\n",
    "```"
   ]
  },
  {
   "cell_type": "code",
   "execution_count": null,
   "metadata": {},
   "outputs": [],
   "source": [
    "!python -m pysc2.bin.map_list"
   ]
  },
  {
   "cell_type": "markdown",
   "metadata": {},
   "source": [
    "### Run an agent\n",
    "\n",
    "You can run an agent to test the environment. The UI shows you the actions of the agent and is helpful for debugging and visualization purposes.\n",
    "\n",
    "```shell\n",
    "$ python -m pysc2.bin.agent --map Simple64\n",
    "```"
   ]
  },
  {
   "cell_type": "markdown",
   "metadata": {},
   "source": [
    "<img src=\"figures/pysc2_run.jpeg\" width=600 />"
   ]
  },
  {
   "cell_type": "code",
   "execution_count": 3,
   "metadata": {},
   "outputs": [
    {
     "name": "stdout",
     "output_type": "stream",
     "text": [
      "I0304 12:40:22.734065 140736103465792 sc_process.py:110] Launching SC2: /Applications/StarCraft II/Versions/Base72282/SC2.app/Contents/MacOS/SC2 -listen 127.0.0.1 -port 15224 -dataDir /Applications/StarCraft II/ -tempDir /var/folders/5n/qdpyvzc169jbh39gdpl_yfsc0000gn/T/sc-uxvvh51s/ -displayMode 0 -windowwidth 640 -windowheight 480 -windowx 50 -windowy 50\n",
      "I0304 12:40:22.739552 140736103465792 remote_controller.py:163] Connecting to: ws://127.0.0.1:15224/sc2api, attempt: 0, running: True\n",
      "I0304 12:40:23.747699 140736103465792 remote_controller.py:163] Connecting to: ws://127.0.0.1:15224/sc2api, attempt: 1, running: True\n",
      "err = 3 /opt/blizzard/buildserver/data.noindex/repositories/sc2/branches/SC2.4.8.b/Game/Contrib/macteam/libs/ClampCursor/Contrib/mach_override/mach_override.c:244\n",
      "err = 3 /opt/blizzard/buildserver/data.noindex/repositories/sc2/branches/SC2.4.8.b/Game/Contrib/macteam/libs/ClampCursor/Contrib/mach_override/mach_override.c:258\n",
      "err = 3 /opt/blizzard/buildserver/data.noindex/repositories/sc2/branches/SC2.4.8.b/Game/Contrib/macteam/libs/ClampCursor/Contrib/mach_override/mach_override.c:263\n",
      "NSWindowEdgeResizing is off!\n",
      "I0304 12:40:24.751626 140736103465792 remote_controller.py:163] Connecting to: ws://127.0.0.1:15224/sc2api, attempt: 2, running: True\n",
      "I0304 12:40:25.752244 140736103465792 remote_controller.py:163] Connecting to: ws://127.0.0.1:15224/sc2api, attempt: 3, running: True\n",
      "I0304 12:40:26.756841 140736103465792 remote_controller.py:163] Connecting to: ws://127.0.0.1:15224/sc2api, attempt: 4, running: True\n",
      "I0304 12:40:27.760483 140736103465792 remote_controller.py:163] Connecting to: ws://127.0.0.1:15224/sc2api, attempt: 5, running: True\n",
      "I0304 12:40:28.762675 140736103465792 remote_controller.py:163] Connecting to: ws://127.0.0.1:15224/sc2api, attempt: 6, running: True\n",
      "I0304 12:40:29.764278 140736103465792 remote_controller.py:163] Connecting to: ws://127.0.0.1:15224/sc2api, attempt: 7, running: True\n",
      "I0304 12:40:30.768625 140736103465792 remote_controller.py:163] Connecting to: ws://127.0.0.1:15224/sc2api, attempt: 8, running: True\n",
      "I0304 12:40:31.772603 140736103465792 remote_controller.py:163] Connecting to: ws://127.0.0.1:15224/sc2api, attempt: 9, running: True\n",
      "I0304 12:40:32.775145 140736103465792 remote_controller.py:163] Connecting to: ws://127.0.0.1:15224/sc2api, attempt: 10, running: True\n",
      "I0304 12:40:33.777085 140736103465792 remote_controller.py:163] Connecting to: ws://127.0.0.1:15224/sc2api, attempt: 11, running: True\n",
      "I0304 12:40:34.777736 140736103465792 remote_controller.py:163] Connecting to: ws://127.0.0.1:15224/sc2api, attempt: 12, running: True\n",
      "I0304 12:40:35.778660 140736103465792 remote_controller.py:163] Connecting to: ws://127.0.0.1:15224/sc2api, attempt: 13, running: True\n",
      "I0304 12:40:45.320683 140736103465792 sc2_env.py:322] Environment is ready on map: Simple64\n",
      "I0304 12:40:45.321018 140736103465792 sc2_env.py:462] Starting episode: 1\n",
      "/Users/moodern/anaconda3/envs/deepstar/lib/python3.5/site-packages/pysc2/lib/features.py:862: FutureWarning: arrays to stack must be passed as a \"sequence\" type such as list or tuple. Support for non-sequence iterables such as generators is deprecated as of NumPy 1.16 and will raise an error in the future.\n",
      "  for f in SCREEN_FEATURES),\n",
      "/Users/moodern/anaconda3/envs/deepstar/lib/python3.5/site-packages/pysc2/lib/features.py:867: FutureWarning: arrays to stack must be passed as a \"sequence\" type such as list or tuple. Support for non-sequence iterables such as generators is deprecated as of NumPy 1.16 and will raise an error in the future.\n",
      "  for f in MINIMAP_FEATURES),\n",
      "   0/no_op                                              ()\n",
      "   1/move_camera                                        (1/minimap [64, 64])\n",
      "   2/select_point                                       (6/select_point_act [4]; 0/screen [84, 84])\n",
      "   3/select_rect                                        (7/select_add [2]; 0/screen [84, 84]; 2/screen2 [84, 84])\n",
      "   4/select_control_group                               (4/control_group_act [5]; 5/control_group_id [10])\n",
      "   5/select_unit                                        (8/select_unit_act [4]; 9/select_unit_id [500])\n",
      " 453/Stop_quick                                         (3/queued [2])\n",
      " 230/Effect_Spray_screen                                (3/queued [2]; 0/screen [84, 84])\n",
      " 264/Harvest_Gather_screen                              (3/queued [2]; 0/screen [84, 84])\n",
      " 331/Move_screen                                        (3/queued [2]; 0/screen [84, 84])\n",
      " 332/Move_minimap                                       (3/queued [2]; 1/minimap [64, 64])\n",
      " 333/Patrol_screen                                      (3/queued [2]; 0/screen [84, 84])\n",
      " 334/Patrol_minimap                                     (3/queued [2]; 1/minimap [64, 64])\n",
      "  12/Attack_screen                                      (3/queued [2]; 0/screen [84, 84])\n",
      "  13/Attack_minimap                                     (3/queued [2]; 1/minimap [64, 64])\n",
      " 274/HoldPosition_quick                                 (3/queued [2])\n",
      "  52/Build_Extractor_screen                             (3/queued [2]; 0/screen [84, 84])\n",
      "  51/Build_EvolutionChamber_screen                      (3/queued [2]; 0/screen [84, 84])\n",
      "   6/select_idle_worker                                 (10/select_worker [4])\n",
      "  84/Build_SpawningPool_screen                          (3/queued [2]; 0/screen [84, 84])\n",
      "  59/Build_Hatchery_screen                              (3/queued [2]; 0/screen [84, 84])\n",
      " 269/Harvest_Return_quick                               (3/queued [2])\n",
      "   9/select_larva                                       ()\n",
      " 335/Rally_Units_screen                                 (3/queued [2]; 0/screen [84, 84])\n",
      " 336/Rally_Units_minimap                                (3/queued [2]; 1/minimap [64, 64])\n",
      " 343/Rally_Workers_screen                               (3/queued [2]; 0/screen [84, 84])\n",
      " 344/Rally_Workers_minimap                              (3/queued [2]; 1/minimap [64, 64])\n",
      " 483/Train_Overlord_quick                               (3/queued [2])\n",
      " 467/Train_Drone_quick                                  (3/queued [2])\n",
      " 168/Cancel_Last_quick                                  (3/queued [2])\n",
      "I0304 12:41:14.874727 140736103465792 sc2_env.py:632] Episode 1 finished after 8736 game steps. Outcome: [-1], reward: [-1], score: [995]\n",
      "Took 30.940 seconds for 1094 steps: 35.359 fps\n",
      "I0304 12:41:16.260844 140736103465792 sc2_env.py:656] Environment Close\n",
      "W0304 12:41:19.476470 140736103465792 sc_process.py:204] Killing the process.\n",
      "I0304 12:41:19.691894 140736103465792 sc_process.py:182] Shutdown with return code: -9\n",
      "Traceback (most recent call last):\n",
      "  File \"/Users/moodern/anaconda3/envs/deepstar/lib/python3.5/site-packages/pysc2/lib/protocol.py\", line 62, in catch_websocket_connection_errors\n",
      "    yield\n",
      "  File \"/Users/moodern/anaconda3/envs/deepstar/lib/python3.5/site-packages/pysc2/lib/protocol.py\", line 161, in _read\n",
      "    response_str = self._sock.recv()\n",
      "  File \"/Users/moodern/anaconda3/envs/deepstar/lib/python3.5/site-packages/websocket/_core.py\", line 313, in recv\n",
      "    opcode, data = self.recv_data()\n",
      "  File \"/Users/moodern/anaconda3/envs/deepstar/lib/python3.5/site-packages/websocket/_core.py\", line 330, in recv_data\n",
      "    opcode, frame = self.recv_data_frame(control_frame)\n",
      "  File \"/Users/moodern/anaconda3/envs/deepstar/lib/python3.5/site-packages/websocket/_core.py\", line 343, in recv_data_frame\n",
      "    frame = self.recv_frame()\n",
      "  File \"/Users/moodern/anaconda3/envs/deepstar/lib/python3.5/site-packages/websocket/_core.py\", line 377, in recv_frame\n",
      "    return self.frame_buffer.recv_frame()\n",
      "  File \"/Users/moodern/anaconda3/envs/deepstar/lib/python3.5/site-packages/websocket/_abnf.py\", line 361, in recv_frame\n",
      "    self.recv_header()\n",
      "  File \"/Users/moodern/anaconda3/envs/deepstar/lib/python3.5/site-packages/websocket/_abnf.py\", line 309, in recv_header\n",
      "    header = self.recv_strict(2)\n",
      "  File \"/Users/moodern/anaconda3/envs/deepstar/lib/python3.5/site-packages/websocket/_abnf.py\", line 396, in recv_strict\n",
      "    bytes_ = self.recv(min(16384, shortage))\n",
      "  File \"/Users/moodern/anaconda3/envs/deepstar/lib/python3.5/site-packages/websocket/_core.py\", line 452, in _recv\n",
      "    return recv(self.sock, bufsize)\n",
      "  File \"/Users/moodern/anaconda3/envs/deepstar/lib/python3.5/site-packages/websocket/_socket.py\", line 112, in recv\n",
      "    \"Connection is already closed.\")\n",
      "websocket._exceptions.WebSocketConnectionClosedException: Connection is already closed.\n",
      "\n",
      "During handling of the above exception, another exception occurred:\n",
      "\n",
      "Traceback (most recent call last):\n",
      "  File \"/Users/moodern/anaconda3/envs/deepstar/lib/python3.5/runpy.py\", line 193, in _run_module_as_main\n",
      "    \"__main__\", mod_spec)\n",
      "  File \"/Users/moodern/anaconda3/envs/deepstar/lib/python3.5/runpy.py\", line 85, in _run_code\n",
      "    exec(code, run_globals)\n",
      "  File \"/Users/moodern/anaconda3/envs/deepstar/lib/python3.5/site-packages/pysc2/bin/agent.py\", line 154, in <module>\n",
      "    app.run(main)\n",
      "  File \"/Users/moodern/anaconda3/envs/deepstar/lib/python3.5/site-packages/absl/app.py\", line 300, in run\n",
      "    _run_main(main, args)\n",
      "  File \"/Users/moodern/anaconda3/envs/deepstar/lib/python3.5/site-packages/absl/app.py\", line 251, in _run_main\n",
      "    sys.exit(main(argv))\n",
      "  File \"/Users/moodern/anaconda3/envs/deepstar/lib/python3.5/site-packages/pysc2/bin/agent.py\", line 140, in main\n",
      "    run_thread(agent_classes, players, FLAGS.map, FLAGS.render)\n",
      "  File \"/Users/moodern/anaconda3/envs/deepstar/lib/python3.5/site-packages/pysc2/bin/agent.py\", line 101, in run_thread\n",
      "    run_loop.run_loop(agents, env, FLAGS.max_agent_steps, FLAGS.max_episodes)\n",
      "  File \"/Users/moodern/anaconda3/envs/deepstar/lib/python3.5/site-packages/pysc2/env/run_loop.py\", line 37, in run_loop\n",
      "    timesteps = env.reset()\n",
      "  File \"/Users/moodern/anaconda3/envs/deepstar/lib/python3.5/site-packages/pysc2/env/base_env_wrapper.py\", line 39, in reset\n",
      "    return self._env.reset(*args, **kwargs)\n",
      "  File \"/Users/moodern/anaconda3/envs/deepstar/lib/python3.5/site-packages/pysc2/lib/stopwatch.py\", line 201, in _stopwatch\n",
      "    return func(*args, **kwargs)\n",
      "  File \"/Users/moodern/anaconda3/envs/deepstar/lib/python3.5/site-packages/pysc2/env/sc2_env.py\", line 459, in reset\n",
      "    self._restart()\n",
      "  File \"/Users/moodern/anaconda3/envs/deepstar/lib/python3.5/site-packages/pysc2/env/sc2_env.py\", line 446, in _restart\n",
      "    self._controllers[0].restart()\n",
      "  File \"/Users/moodern/anaconda3/envs/deepstar/lib/python3.5/site-packages/pysc2/lib/remote_controller.py\", line 96, in _valid_status\n",
      "    return func(self, *args, **kwargs)\n",
      "  File \"/Users/moodern/anaconda3/envs/deepstar/lib/python3.5/site-packages/pysc2/lib/remote_controller.py\", line 71, in _check_error\n",
      "    return check_error(func(*args, **kwargs), error_enum)\n",
      "  File \"/Users/moodern/anaconda3/envs/deepstar/lib/python3.5/site-packages/pysc2/lib/stopwatch.py\", line 201, in _stopwatch\n",
      "    return func(*args, **kwargs)\n",
      "  File \"/Users/moodern/anaconda3/envs/deepstar/lib/python3.5/site-packages/pysc2/lib/remote_controller.py\", line 206, in restart\n",
      "    return self._client.send(restart_game=sc_pb.RequestRestartGame())\n",
      "  File \"/Users/moodern/anaconda3/envs/deepstar/lib/python3.5/site-packages/pysc2/lib/protocol.py\", line 136, in send\n",
      "    res = self.send_req(sc_pb.Request(**kwargs))\n",
      "  File \"/Users/moodern/anaconda3/envs/deepstar/lib/python3.5/site-packages/pysc2/lib/protocol.py\", line 122, in send_req\n",
      "    return self.read()\n",
      "  File \"/Users/moodern/anaconda3/envs/deepstar/lib/python3.5/site-packages/pysc2/lib/stopwatch.py\", line 201, in _stopwatch\n",
      "    return func(*args, **kwargs)\n",
      "  File \"/Users/moodern/anaconda3/envs/deepstar/lib/python3.5/site-packages/pysc2/lib/protocol.py\", line 95, in read\n",
      "    response = self._read()\n",
      "  File \"/Users/moodern/anaconda3/envs/deepstar/lib/python3.5/site-packages/pysc2/lib/protocol.py\", line 161, in _read\n",
      "    response_str = self._sock.recv()\n",
      "  File \"/Users/moodern/anaconda3/envs/deepstar/lib/python3.5/contextlib.py\", line 77, in __exit__\n",
      "    self.gen.throw(type, value, traceback)\n",
      "  File \"/Users/moodern/anaconda3/envs/deepstar/lib/python3.5/site-packages/pysc2/lib/protocol.py\", line 64, in catch_websocket_connection_errors\n",
      "    raise ConnectionError(\"Connection already closed. SC2 probably crashed. \"\n",
      "pysc2.lib.protocol.ConnectionError: Connection already closed. SC2 probably crashed. Check the error log.\n"
     ]
    },
    {
     "name": "stdout",
     "output_type": "stream",
     "text": [
      "I0304 12:41:19.764132 140736103465792 sc2_env.py:656] Environment Close\r\n",
      "I0304 12:41:19.764350 140736103465792 sc2_env.py:656] Environment Close\r\n"
     ]
    }
   ],
   "source": [
    "!python -m pysc2.bin.agent --map Simple64"
   ]
  },
  {
   "cell_type": "markdown",
   "metadata": {},
   "source": [
    "-------------------------"
   ]
  },
  {
   "cell_type": "markdown",
   "metadata": {},
   "source": [
    "# 참고자료\n",
    "* [1] StarCraft II Learning Environment - https://github.com/deepmind/pysc2"
   ]
  }
 ],
 "metadata": {
  "kernelspec": {
   "display_name": "Python 3",
   "language": "python",
   "name": "python3"
  },
  "language_info": {
   "codemirror_mode": {
    "name": "ipython",
    "version": 3
   },
   "file_extension": ".py",
   "mimetype": "text/x-python",
   "name": "python",
   "nbconvert_exporter": "python",
   "pygments_lexer": "ipython3",
   "version": "3.5.6"
  }
 },
 "nbformat": 4,
 "nbformat_minor": 2
}
