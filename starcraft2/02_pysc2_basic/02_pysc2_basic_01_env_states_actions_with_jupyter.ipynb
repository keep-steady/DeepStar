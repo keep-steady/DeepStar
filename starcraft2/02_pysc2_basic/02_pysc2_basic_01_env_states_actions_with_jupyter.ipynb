{
 "cells": [
  {
   "cell_type": "markdown",
   "metadata": {},
   "source": [
    "# 02. StarCraft II Learning Environment (PySC2) - Env, States, Actions (with jupyter notebook)"
   ]
  },
  {
   "cell_type": "markdown",
   "metadata": {},
   "source": [
    "* 싸이그래머 / DeepStar - PySC2\n",
    "* 김무성"
   ]
  },
  {
   "cell_type": "markdown",
   "metadata": {},
   "source": [
    "# 차례\n",
    "* States (Observations)\n",
    "* Actions\n",
    "* How to use like Gym\n",
    "    - Setting Map\n",
    "        - Setting Counfigure\n",
    "        - Create Env\n",
    "    - Getting state\n",
    "    - How to act"
   ]
  },
  {
   "cell_type": "markdown",
   "metadata": {},
   "source": [
    "---------------------------"
   ]
  },
  {
   "cell_type": "markdown",
   "metadata": {},
   "source": [
    "# States (Observations)"
   ]
  },
  {
   "cell_type": "markdown",
   "metadata": {},
   "source": [
    "##### 참고자료\n",
    "* [1] pysc2 environments doc - https://github.com/deepmind/pysc2/blob/master/docs/environment.md\n"
   ]
  },
  {
   "cell_type": "markdown",
   "metadata": {},
   "source": [
    "Observations\n",
    "- https://github.com/deepmind/pysc2/blob/master/docs/environment.md#observation"
   ]
  },
  {
   "cell_type": "markdown",
   "metadata": {},
   "source": [
    "--------------------------"
   ]
  },
  {
   "cell_type": "markdown",
   "metadata": {},
   "source": [
    "# Actions"
   ]
  },
  {
   "cell_type": "markdown",
   "metadata": {},
   "source": [
    "##### 참고자료\n",
    "* [1] pysc2 environments doc - https://github.com/deepmind/pysc2/blob/master/docs/environment.md\n",
    "* [2] Train your first Starcraft II learning agent - https://soygema.github.io/starcraftII_machine_learning\n"
   ]
  },
  {
   "cell_type": "markdown",
   "metadata": {},
   "source": [
    "Actions - https://github.com/deepmind/pysc2/blob/master/docs/environment.md#actions"
   ]
  },
  {
   "cell_type": "markdown",
   "metadata": {},
   "source": [
    "<img src=\"https://soygema.github.io/starcraftII_machine_learning/pysc2_images/pysc2_action.gif\" width=600 />"
   ]
  },
  {
   "cell_type": "code",
   "execution_count": null,
   "metadata": {
    "scrolled": true
   },
   "outputs": [],
   "source": [
    "!python -m pysc2.bin.valid_actions"
   ]
  },
  {
   "cell_type": "markdown",
   "metadata": {},
   "source": [
    "--------------------------------------"
   ]
  },
  {
   "cell_type": "markdown",
   "metadata": {},
   "source": [
    "# How to use like Gym"
   ]
  },
  {
   "cell_type": "markdown",
   "metadata": {},
   "source": [
    "* [3] How to train StarCraft II Bots - https://colab.research.google.com/drive/1AzCKV98UaQQz2aJIeGWlExcxBrpgKsIV\n",
    "* [4] chagmgang's Reinforcement Learning with StarCraft II - https://drive.google.com/file/d/10641_2vgu937r0FjxxArC1fZTRv5aH1n/view\n",
    "* [5] Build a Zerg Bot with PySC2 2.0 - https://itnext.io/build-a-zerg-bot-with-pysc2-2-0-295375d2f58e\n",
    "(github) \n",
    "    - How To: PySC2 - https://github.com/skjb/pysc2-tutorial"
   ]
  },
  {
   "cell_type": "markdown",
   "metadata": {},
   "source": [
    "## Setting Map"
   ]
  },
  {
   "cell_type": "markdown",
   "metadata": {},
   "source": [
    "### Setting Counfigure"
   ]
  },
  {
   "cell_type": "markdown",
   "metadata": {},
   "source": [
    "##### 참고자료\n",
    "* [3] How to train StarCraft II Bots - https://colab.research.google.com/drive/1AzCKV98UaQQz2aJIeGWlExcxBrpgKsIV\n"
   ]
  },
  {
   "cell_type": "code",
   "execution_count": null,
   "metadata": {},
   "outputs": [],
   "source": [
    "# unfortunately, PySC2 uses Abseil, which treats python code as if its run like an app\n",
    "# This does not play well with jupyter notebook\n",
    "# So we will need to monkeypatch sys.argv\n",
    "\n",
    "\n",
    "import sys\n",
    "sys.argv = [\"python\", \"--map\", \"Simple64\"]"
   ]
  },
  {
   "cell_type": "code",
   "execution_count": null,
   "metadata": {},
   "outputs": [],
   "source": [
    "from absl import app\n",
    "from absl import flags"
   ]
  },
  {
   "cell_type": "code",
   "execution_count": null,
   "metadata": {},
   "outputs": [],
   "source": [
    "from pysc2 import maps\n",
    "from pysc2.env import available_actions_printer\n",
    "from pysc2.env import run_loop\n",
    "from pysc2.env import sc2_env\n",
    "from pysc2.lib import point_flag\n",
    "from pysc2.lib import stopwatch"
   ]
  },
  {
   "cell_type": "code",
   "execution_count": null,
   "metadata": {},
   "outputs": [],
   "source": [
    "FLAGS = flags.FLAGS"
   ]
  },
  {
   "cell_type": "code",
   "execution_count": null,
   "metadata": {},
   "outputs": [],
   "source": [
    "# because of Abseil's horrible design for running code underneath Colabs\n",
    "# We have to pull out this ugly hack from the hat\n",
    "if \"flags_defined\" not in globals():\n",
    "    flags.DEFINE_bool(\"render\", True, \"Whether to render with pygame.\")\n",
    "    point_flag.DEFINE_point(\"feature_screen_size\", \"84\",\n",
    "                            \"Resolution for screen feature layers.\")\n",
    "    point_flag.DEFINE_point(\"feature_minimap_size\", \"64\",\n",
    "                            \"Resolution for minimap feature layers.\")\n",
    "    point_flag.DEFINE_point(\"rgb_screen_size\", None,\n",
    "                            \"Resolution for rendered screen.\")\n",
    "    point_flag.DEFINE_point(\"rgb_minimap_size\", None,\n",
    "                            \"Resolution for rendered minimap.\")\n",
    "    flags.DEFINE_enum(\"action_space\", None, sc2_env.ActionSpace._member_names_,  # pylint: disable=protected-access\n",
    "                      \"Which action space to use. Needed if you take both feature \"\n",
    "                      \"and rgb observations.\")\n",
    "    flags.DEFINE_bool(\"use_feature_units\", False,\n",
    "                      \"Whether to include feature units.\")\n",
    "    flags.DEFINE_bool(\"disable_fog\", False, \"Whether to disable Fog of War.\")\n",
    "\n",
    "    flags.DEFINE_integer(\"max_agent_steps\", 0, \"Total agent steps.\")\n",
    "    flags.DEFINE_integer(\"game_steps_per_episode\", None, \"Game steps per episode.\")\n",
    "    flags.DEFINE_integer(\"max_episodes\", 0, \"Total episodes.\")\n",
    "    flags.DEFINE_integer(\"step_mul\", 8, \"Game steps per agent step.\")\n",
    "\n",
    "    flags.DEFINE_string(\"agent\", \"pysc2.agents.random_agent.RandomAgent\",\n",
    "                        \"Which agent to run, as a python path to an Agent class.\")\n",
    "    flags.DEFINE_enum(\"agent_race\", \"random\", sc2_env.Race._member_names_,  # pylint: disable=protected-access\n",
    "                      \"Agent 1's race.\")\n",
    "\n",
    "    flags.DEFINE_string(\"agent2\", \"Bot\", \"Second agent, either Bot or agent class.\")\n",
    "    flags.DEFINE_enum(\"agent2_race\", \"random\", sc2_env.Race._member_names_,  # pylint: disable=protected-access\n",
    "                      \"Agent 2's race.\")\n",
    "    flags.DEFINE_enum(\"difficulty\", \"very_easy\", sc2_env.Difficulty._member_names_,  # pylint: disable=protected-access\n",
    "                      \"If agent2 is a built-in Bot, it's strength.\")\n",
    "\n",
    "    flags.DEFINE_bool(\"profile\", False, \"Whether to turn on code profiling.\")\n",
    "    flags.DEFINE_bool(\"trace\", False, \"Whether to trace the code execution.\")\n",
    "    flags.DEFINE_integer(\"parallel\", 1, \"How many instances to run in parallel.\")\n",
    "\n",
    "    flags.DEFINE_bool(\"save_replay\", True, \"Whether to save a replay at the end.\")\n",
    "\n",
    "    flags.DEFINE_string(\"map\", None, \"Name of a map to use.\")\n",
    "    flags.mark_flag_as_required(\"map\")"
   ]
  },
  {
   "cell_type": "code",
   "execution_count": null,
   "metadata": {},
   "outputs": [],
   "source": [
    "flags_defined = True"
   ]
  },
  {
   "cell_type": "code",
   "execution_count": null,
   "metadata": {},
   "outputs": [],
   "source": [
    "FLAGS(sys.argv)"
   ]
  },
  {
   "cell_type": "code",
   "execution_count": null,
   "metadata": {},
   "outputs": [],
   "source": [
    "players = []\n",
    "players.append(sc2_env.Agent(sc2_env.Race[FLAGS.agent_race]))\n",
    "print(players)"
   ]
  },
  {
   "cell_type": "code",
   "execution_count": null,
   "metadata": {},
   "outputs": [],
   "source": [
    "map_name = FLAGS.map\n",
    "visualize = True\n",
    "print(map_name)\n",
    "print(visualize)"
   ]
  },
  {
   "cell_type": "markdown",
   "metadata": {},
   "source": [
    "### Create Env"
   ]
  },
  {
   "cell_type": "code",
   "execution_count": null,
   "metadata": {},
   "outputs": [],
   "source": [
    "env = sc2_env.SC2Env(\n",
    "          map_name=map_name,\n",
    "          players=players,\n",
    "          agent_interface_format=sc2_env.parse_agent_interface_format(\n",
    "              feature_screen=FLAGS.feature_screen_size,\n",
    "              feature_minimap=FLAGS.feature_minimap_size,\n",
    "              rgb_screen=FLAGS.rgb_screen_size,\n",
    "              rgb_minimap=FLAGS.rgb_minimap_size,\n",
    "              action_space=FLAGS.action_space,\n",
    "              use_feature_units=FLAGS.use_feature_units),\n",
    "          step_mul=FLAGS.step_mul,\n",
    "          game_steps_per_episode=FLAGS.game_steps_per_episode,\n",
    "          disable_fog=FLAGS.disable_fog,\n",
    "          visualize=visualize)"
   ]
  },
  {
   "cell_type": "code",
   "execution_count": null,
   "metadata": {},
   "outputs": [],
   "source": [
    "env.close()"
   ]
  },
  {
   "cell_type": "markdown",
   "metadata": {},
   "source": [
    "## Getting state"
   ]
  },
  {
   "cell_type": "markdown",
   "metadata": {},
   "source": [
    "##### 참고자료\n",
    "* [4] chagmgang's Reinforcement Learning with StarCraft II - https://drive.google.com/file/d/10641_2vgu937r0FjxxArC1fZTRv5aH1n/view\n"
   ]
  },
  {
   "cell_type": "code",
   "execution_count": null,
   "metadata": {},
   "outputs": [],
   "source": [
    "env = sc2_env.SC2Env(\n",
    "          map_name=map_name,\n",
    "          players=players,\n",
    "          agent_interface_format=sc2_env.parse_agent_interface_format(\n",
    "              feature_screen=FLAGS.feature_screen_size,\n",
    "              feature_minimap=FLAGS.feature_minimap_size,\n",
    "              rgb_screen=FLAGS.rgb_screen_size,\n",
    "              rgb_minimap=FLAGS.rgb_minimap_size,\n",
    "              action_space=FLAGS.action_space,\n",
    "              use_feature_units=FLAGS.use_feature_units),\n",
    "          step_mul=FLAGS.step_mul,\n",
    "          game_steps_per_episode=FLAGS.game_steps_per_episode,\n",
    "          disable_fog=FLAGS.disable_fog,\n",
    "          visualize=visualize)"
   ]
  },
  {
   "cell_type": "code",
   "execution_count": null,
   "metadata": {},
   "outputs": [],
   "source": [
    "\n",
    "for episodes in range(10) :\n",
    "    \n",
    "    obs = env.reset()\n",
    "    available_actions = obs[0].observation.available_actions\n",
    "        \n",
    "    # -- minimap features    \n",
    "    minimap_feature = obs[0].observation.feature_minimap\n",
    "    minimap_height_map = minimap_feature.base[0]\n",
    "    minimap_visibility_map = minimap_feature.base[1]\n",
    "    minimap_creep = minimap_feature.base[2]\n",
    "    minimap_selected = minimap_feature.base[6]\n",
    "    \n",
    "    # -- screen features\n",
    "    screen_feature = obs[0].observation.feature_screen\n",
    "    screen_height_map = screen_feature.base[0]\n",
    "    screen_visibility_map = screen_feature.base[1]\n",
    "    screen_effects = screen_feature.base[16]\n",
    "        "
   ]
  },
  {
   "cell_type": "code",
   "execution_count": null,
   "metadata": {},
   "outputs": [],
   "source": [
    "env.close()"
   ]
  },
  {
   "cell_type": "code",
   "execution_count": null,
   "metadata": {},
   "outputs": [],
   "source": [
    "def print_val(tag, val) :\n",
    "    print(\"========= %s ==========\\n\" %(tag))\n",
    "    print(val)"
   ]
  },
  {
   "cell_type": "code",
   "execution_count": null,
   "metadata": {},
   "outputs": [],
   "source": [
    "D_DEBUG = True\n",
    "if(D_DEBUG) :\n",
    "    print_val(\"obs\", obs)\n",
    "    print_val(\"available_actions\", available_actions)\n",
    "        \n",
    "    # -- minimap features    \n",
    "    print_val(\"minimap_feature\", minimap_feature)\n",
    "    print_val(\"minimap_height_map\", minimap_height_map)\n",
    "    print_val(\"minimap_visibility_map\", minimap_visibility_map)\n",
    "    print_val(\"minimap_creep\", minimap_creep)\n",
    "    print_val(\"minimap_selected\", minimap_selected)\n",
    "    \n",
    "    # -- screen features\n",
    "    print_val(\"screen_feature\", screen_feature)\n",
    "    print_val(\"screen_height_map\", screen_height_map)\n",
    "    print_val(\"screen_visibility_map\", screen_visibility_map)\n",
    "    print_val(\"screen_effects\", screen_effects)"
   ]
  },
  {
   "cell_type": "markdown",
   "metadata": {},
   "source": [
    "## How to act"
   ]
  },
  {
   "cell_type": "markdown",
   "metadata": {},
   "source": [
    "##### 참고자료\n",
    "* [5] Build a Zerg Bot with PySC2 2.0 - https://itnext.io/build-a-zerg-bot-with-pysc2-2-0-295375d2f58e\n",
    "(github) \n",
    "    - How To: PySC2 - https://github.com/skjb/pysc2-tutorial"
   ]
  },
  {
   "cell_type": "code",
   "execution_count": null,
   "metadata": {},
   "outputs": [],
   "source": [
    "from pysc2.agents import random_agent"
   ]
  },
  {
   "cell_type": "code",
   "execution_count": null,
   "metadata": {},
   "outputs": [],
   "source": [
    "import pysc2.agents"
   ]
  },
  {
   "cell_type": "code",
   "execution_count": null,
   "metadata": {},
   "outputs": [],
   "source": [
    "dir(pysc2.agents)"
   ]
  },
  {
   "cell_type": "code",
   "execution_count": null,
   "metadata": {},
   "outputs": [],
   "source": [
    "with sc2_env.SC2Env(\n",
    "          map_name=map_name,\n",
    "          players=players,\n",
    "          agent_interface_format=sc2_env.parse_agent_interface_format(\n",
    "              feature_screen=FLAGS.feature_screen_size,\n",
    "              feature_minimap=FLAGS.feature_minimap_size,\n",
    "              rgb_screen=FLAGS.rgb_screen_size,\n",
    "              rgb_minimap=FLAGS.rgb_minimap_size,\n",
    "              action_space=FLAGS.action_space,\n",
    "              use_feature_units=FLAGS.use_feature_units),\n",
    "          step_mul=FLAGS.step_mul,\n",
    "          game_steps_per_episode=FLAGS.game_steps_per_episode,\n",
    "          disable_fog=FLAGS.disable_fog,\n",
    "          visualize=visualize) as env :\n",
    "\n",
    "    agent = random_agent.RandomAgent()\n",
    "    agent.setup(env.observation_spec()[0], env.action_spec()[0])\n",
    "    \n",
    "    done = False\n",
    "    global_step = 0\n",
    "    \n",
    "    obs = env.reset()\n",
    "    \n",
    "    while not done : \n",
    "        global_step += 1\n",
    "\n",
    "        #print(obs)\n",
    "        action = agent.step(obs[0])\n",
    "        print(action)\n",
    "        obs = env.step(actions=[action])\n",
    "       \n",
    "        if global_step == 10:\n",
    "            done = True"
   ]
  },
  {
   "cell_type": "markdown",
   "metadata": {},
   "source": [
    "-----------------------"
   ]
  },
  {
   "cell_type": "markdown",
   "metadata": {},
   "source": [
    "# 참고자료\n",
    "* [1] pysc2 environments doc - https://github.com/deepmind/pysc2/blob/master/docs/environment.md\n",
    "* [2] Train your first Starcraft II learning agent - \n",
    "https://soygema.github.io/starcraftII_machine_learning\n",
    "* [3] How to train StarCraft II Bots - https://colab.research.google.com/drive/1AzCKV98UaQQz2aJIeGWlExcxBrpgKsIV\n",
    "* [4] chagmgang's Reinforcement Learning with StarCraft II - https://drive.google.com/file/d/10641_2vgu937r0FjxxArC1fZTRv5aH1n/view\n",
    "* [5] Build a Zerg Bot with PySC2 2.0 - https://itnext.io/build-a-zerg-bot-with-pysc2-2-0-295375d2f58e\n",
    "     - (github) How To: PySC2 - https://github.com/skjb/pysc2-tutorial"
   ]
  }
 ],
 "metadata": {
  "kernelspec": {
   "display_name": "Python 3",
   "language": "python",
   "name": "python3"
  },
  "language_info": {
   "codemirror_mode": {
    "name": "ipython",
    "version": 3
   },
   "file_extension": ".py",
   "mimetype": "text/x-python",
   "name": "python",
   "nbconvert_exporter": "python",
   "pygments_lexer": "ipython3",
   "version": "3.5.6"
  }
 },
 "nbformat": 4,
 "nbformat_minor": 2
}
