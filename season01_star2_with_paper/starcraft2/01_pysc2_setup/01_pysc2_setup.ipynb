{
 "cells": [
  {
   "cell_type": "markdown",
   "metadata": {},
   "source": [
    "# 01. StarCraft II Learning Environment (PySC2) - 환경설정\n",
    "* 싸이그래머 / DeepStar - PySC2\n",
    "* 김무성"
   ]
  },
  {
   "cell_type": "markdown",
   "metadata": {},
   "source": [
    "## 차례 \n",
    "1. 아나콘다 환경 설정 (필수 아님)\n",
    "2. PySC2 설치\n",
    "3. StarCraft II 설치\n",
    "4. Map and Replay Packs 설치\n",
    "5. 설치 확인 및 간단한 예제 실행"
   ]
  },
  {
   "cell_type": "markdown",
   "metadata": {},
   "source": [
    "--------------------------------"
   ]
  },
  {
   "cell_type": "markdown",
   "metadata": {},
   "source": [
    "# 1. 아나콘다 환경 설정 (필수 아님)"
   ]
  },
  {
   "cell_type": "markdown",
   "metadata": {},
   "source": [
    "* https://www.anaconda.com/distribution/\n",
    "* 파이썬 설치 가상환경을 구성할 수 있다면 꼭 아나콘다 사용하지 않아도 됩니다."
   ]
  },
  {
   "cell_type": "markdown",
   "metadata": {},
   "source": [
    "# 2. PySC2 설치"
   ]
  },
  {
   "cell_type": "markdown",
   "metadata": {},
   "source": [
    "#### 참고자료 \n",
    "* https://github.com/deepmind/pysc2 [1]"
   ]
  },
  {
   "cell_type": "markdown",
   "metadata": {},
   "source": [
    "```shell\n",
    "$ pip install --upgrade pip\n",
    "$ pip install pysc2\n",
    "```"
   ]
  },
  {
   "cell_type": "markdown",
   "metadata": {},
   "source": [
    "# 3. StarCraft II 설치 "
   ]
  },
  {
   "cell_type": "markdown",
   "metadata": {},
   "source": [
    "#### 참고자료 \n",
    "* https://github.com/deepmind/pysc2#get-starcraft-ii\n",
    "* 리눅스의 경우는 이번 자료에서는 위 참고링크를 참조할 것. 앞으로 리눅스 환경은 생략."
   ]
  },
  {
   "cell_type": "markdown",
   "metadata": {},
   "source": [
    "Windows/MacOS의 경우\n",
    "* Battle.net 가입 - https://battle.net/\n",
    "* 스타2 무료 체험판 -> 클라이언트 다운로드    "
   ]
  },
  {
   "cell_type": "markdown",
   "metadata": {},
   "source": [
    "<img src=\"figures/sc2_01.jpeg\" width=400 />\n",
    "<img src=\"figures/sc2_02.jpeg\" width=400 />"
   ]
  },
  {
   "cell_type": "markdown",
   "metadata": {},
   "source": [
    "기본 설치 경로는 보통 다음과 같다.\n",
    "```shell\n",
    "Windows: C:\\Program Files (x86)\\StarCraft II\\\n",
    "Mac: /Applications/StarCraft II/\n",
    "On Linux, the installation directory is the folder you extracted the linux package into.\n",
    "```"
   ]
  },
  {
   "cell_type": "markdown",
   "metadata": {},
   "source": [
    "# 4. Map and Replay Packs 설치"
   ]
  },
  {
   "cell_type": "markdown",
   "metadata": {},
   "source": [
    "#### 참고자료\n",
    "* https://github.com/deepmind/pysc2#get-the-maps"
   ]
  },
  {
   "cell_type": "markdown",
   "metadata": {},
   "source": [
    "스타2 기본 설치 디렉토리에 Maps라는 디렉토리를 만든다. 앞으로 이 디렉토리에 Map Pack과 미니게임들을 다운로드하여 압축을 풀어야 한다. \n",
    "\n",
    "```shell\n",
    "StarCraft II/Maps\n",
    "```"
   ]
  },
  {
   "cell_type": "markdown",
   "metadata": {},
   "source": [
    "### Map Pack 다운로드\n",
    "* 다운로드 링크 - https://github.com/Blizzard/s2client-proto#downloads\n",
    "* 해당 링크에서 다음의 2개 Map Pack이 필요하다. \n",
    "    - Ladder 2019 Season 1 - http://blzdistsc2-a.akamaihd.net/MapPacks/Ladder2019Season1.zip\n",
    "    - Melee - http://blzdistsc2-a.akamaihd.net/MapPacks/Melee.zip\n",
    "* 이 팩들은 압축을 풀 때 암호를 물어본다. \n",
    "    - 패스워드 : 'iagreetotheeula'\n",
    "    - (참고) https://github.com/Blizzard/s2client-proto#downloads"
   ]
  },
  {
   "cell_type": "markdown",
   "metadata": {},
   "source": [
    "### Mini Games 다운로드 \n",
    "* 다운로드 링크 - https://github.com/deepmind/pysc2/releases/download/v1.2/mini_games.zip"
   ]
  },
  {
   "cell_type": "markdown",
   "metadata": {},
   "source": [
    "# 5. 설치 확인 및 간단한 예제 실행"
   ]
  },
  {
   "cell_type": "markdown",
   "metadata": {},
   "source": [
    "### List the maps"
   ]
  },
  {
   "cell_type": "markdown",
   "metadata": {},
   "source": [
    "```shell\n",
    "$ python -m pysc2.bin.map_list\n",
    "```"
   ]
  },
  {
   "cell_type": "code",
   "execution_count": 1,
   "metadata": {},
   "outputs": [
    {
     "name": "stdout",
     "output_type": "stream",
     "text": [
      "/usr/bin/python: No module named pysc2.bin\r\n"
     ]
    }
   ],
   "source": [
    "!python -m pysc2.bin.map_list"
   ]
  },
  {
   "cell_type": "markdown",
   "metadata": {},
   "source": [
    "### Run an agent\n",
    "\n",
    "You can run an agent to test the environment. The UI shows you the actions of the agent and is helpful for debugging and visualization purposes.\n",
    "\n",
    "```shell\n",
    "$ python -m pysc2.bin.agent --map Simple64\n",
    "```"
   ]
  },
  {
   "cell_type": "markdown",
   "metadata": {},
   "source": [
    "<img src=\"figures/pysc2_run.jpeg\" width=600 />"
   ]
  },
  {
   "cell_type": "code",
   "execution_count": 2,
   "metadata": {},
   "outputs": [
    {
     "name": "stdout",
     "output_type": "stream",
     "text": [
      "/usr/bin/python: No module named pysc2.bin\r\n"
     ]
    }
   ],
   "source": [
    "!python -m pysc2.bin.agent --map Simple64"
   ]
  },
  {
   "cell_type": "markdown",
   "metadata": {},
   "source": [
    "-------------------------"
   ]
  },
  {
   "cell_type": "markdown",
   "metadata": {},
   "source": [
    "# 참고자료\n",
    "* [1] StarCraft II Learning Environment - https://github.com/deepmind/pysc2"
   ]
  }
 ],
 "metadata": {
  "kernelspec": {
   "display_name": "Python 3",
   "language": "python",
   "name": "python3"
  },
  "language_info": {
   "codemirror_mode": {
    "name": "ipython",
    "version": 3
   },
   "file_extension": ".py",
   "mimetype": "text/x-python",
   "name": "python",
   "nbconvert_exporter": "python",
   "pygments_lexer": "ipython3",
   "version": "3.7.0"
  }
 },
 "nbformat": 4,
 "nbformat_minor": 2
}
