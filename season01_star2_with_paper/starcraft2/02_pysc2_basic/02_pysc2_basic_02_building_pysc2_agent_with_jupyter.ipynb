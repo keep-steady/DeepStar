{
 "cells": [
  {
   "cell_type": "markdown",
   "metadata": {},
   "source": [
    "# 02. Building a PySC2 Agent (with jupyter notebook)"
   ]
  },
  {
   "cell_type": "markdown",
   "metadata": {},
   "source": [
    "* 싸이그래머 / DeepStar - PySC2\n",
    "* 김무성"
   ]
  },
  {
   "cell_type": "markdown",
   "metadata": {},
   "source": [
    "# 차례\n",
    "* Remind : How to use like Gym\n",
    "* Building a Basic PySC2 Agent"
   ]
  },
  {
   "cell_type": "markdown",
   "metadata": {},
   "source": [
    "---------------------------"
   ]
  },
  {
   "cell_type": "markdown",
   "metadata": {},
   "source": [
    "# Remind : How to use like Gym"
   ]
  },
  {
   "cell_type": "markdown",
   "metadata": {},
   "source": [
    "* [3] How to train StarCraft II Bots - https://colab.research.google.com/drive/1AzCKV98UaQQz2aJIeGWlExcxBrpgKsIV\n",
    "* [4] chagmgang's Reinforcement Learning with StarCraft II - https://drive.google.com/file/d/10641_2vgu937r0FjxxArC1fZTRv5aH1n/view\n",
    "* [5] Build a Zerg Bot with PySC2 2.0 - https://itnext.io/build-a-zerg-bot-with-pysc2-2-0-295375d2f58e\n",
    "(github) \n",
    "    - How To: PySC2 - https://github.com/skjb/pysc2-tutorial"
   ]
  },
  {
   "cell_type": "markdown",
   "metadata": {},
   "source": [
    "## Setting Map"
   ]
  },
  {
   "cell_type": "markdown",
   "metadata": {},
   "source": [
    "### Setting Counfigure"
   ]
  },
  {
   "cell_type": "markdown",
   "metadata": {},
   "source": [
    "##### 참고자료\n",
    "* [3] How to train StarCraft II Bots - https://colab.research.google.com/drive/1AzCKV98UaQQz2aJIeGWlExcxBrpgKsIV\n"
   ]
  },
  {
   "cell_type": "code",
   "execution_count": 1,
   "metadata": {},
   "outputs": [],
   "source": [
    "# unfortunately, PySC2 uses Abseil, which treats python code as if its run like an app\n",
    "# This does not play well with jupyter notebook\n",
    "# So we will need to monkeypatch sys.argv\n",
    "\n",
    "\n",
    "import sys\n",
    "sys.argv = [\"python\", \"--map\", \"Simple64\"]"
   ]
  },
  {
   "cell_type": "code",
   "execution_count": 2,
   "metadata": {},
   "outputs": [],
   "source": [
    "from absl import app\n",
    "from absl import flags"
   ]
  },
  {
   "cell_type": "code",
   "execution_count": 3,
   "metadata": {},
   "outputs": [],
   "source": [
    "from pysc2 import maps\n",
    "from pysc2.env import available_actions_printer\n",
    "from pysc2.env import run_loop\n",
    "from pysc2.env import sc2_env\n",
    "from pysc2.lib import point_flag\n",
    "from pysc2.lib import stopwatch"
   ]
  },
  {
   "cell_type": "code",
   "execution_count": 4,
   "metadata": {},
   "outputs": [],
   "source": [
    "FLAGS = flags.FLAGS"
   ]
  },
  {
   "cell_type": "code",
   "execution_count": 5,
   "metadata": {},
   "outputs": [],
   "source": [
    "# because of Abseil's horrible design for running code underneath Colabs\n",
    "# We have to pull out this ugly hack from the hat\n",
    "if \"flags_defined\" not in globals():\n",
    "    flags.DEFINE_bool(\"render\", True, \"Whether to render with pygame.\")\n",
    "    point_flag.DEFINE_point(\"feature_screen_size\", \"84\",\n",
    "                            \"Resolution for screen feature layers.\")\n",
    "    point_flag.DEFINE_point(\"feature_minimap_size\", \"64\",\n",
    "                            \"Resolution for minimap feature layers.\")\n",
    "    point_flag.DEFINE_point(\"rgb_screen_size\", None,\n",
    "                            \"Resolution for rendered screen.\")\n",
    "    point_flag.DEFINE_point(\"rgb_minimap_size\", None,\n",
    "                            \"Resolution for rendered minimap.\")\n",
    "    flags.DEFINE_enum(\"action_space\", None, sc2_env.ActionSpace._member_names_,  # pylint: disable=protected-access\n",
    "                      \"Which action space to use. Needed if you take both feature \"\n",
    "                      \"and rgb observations.\")\n",
    "    flags.DEFINE_bool(\"use_feature_units\", False,\n",
    "                      \"Whether to include feature units.\")\n",
    "    flags.DEFINE_bool(\"disable_fog\", False, \"Whether to disable Fog of War.\")\n",
    "\n",
    "    flags.DEFINE_integer(\"max_agent_steps\", 0, \"Total agent steps.\")\n",
    "    flags.DEFINE_integer(\"game_steps_per_episode\", None, \"Game steps per episode.\")\n",
    "    flags.DEFINE_integer(\"max_episodes\", 0, \"Total episodes.\")\n",
    "    flags.DEFINE_integer(\"step_mul\", 8, \"Game steps per agent step.\")\n",
    "\n",
    "    flags.DEFINE_string(\"agent\", \"pysc2.agents.random_agent.RandomAgent\",\n",
    "                        \"Which agent to run, as a python path to an Agent class.\")\n",
    "    flags.DEFINE_enum(\"agent_race\", \"random\", sc2_env.Race._member_names_,  # pylint: disable=protected-access\n",
    "                      \"Agent 1's race.\")\n",
    "\n",
    "    flags.DEFINE_string(\"agent2\", \"Bot\", \"Second agent, either Bot or agent class.\")\n",
    "    flags.DEFINE_enum(\"agent2_race\", \"random\", sc2_env.Race._member_names_,  # pylint: disable=protected-access\n",
    "                      \"Agent 2's race.\")\n",
    "    flags.DEFINE_enum(\"difficulty\", \"very_easy\", sc2_env.Difficulty._member_names_,  # pylint: disable=protected-access\n",
    "                      \"If agent2 is a built-in Bot, it's strength.\")\n",
    "\n",
    "    flags.DEFINE_bool(\"profile\", False, \"Whether to turn on code profiling.\")\n",
    "    flags.DEFINE_bool(\"trace\", False, \"Whether to trace the code execution.\")\n",
    "    flags.DEFINE_integer(\"parallel\", 1, \"How many instances to run in parallel.\")\n",
    "\n",
    "    flags.DEFINE_bool(\"save_replay\", True, \"Whether to save a replay at the end.\")\n",
    "\n",
    "    flags.DEFINE_string(\"map\", None, \"Name of a map to use.\")\n",
    "    flags.mark_flag_as_required(\"map\")"
   ]
  },
  {
   "cell_type": "code",
   "execution_count": 6,
   "metadata": {},
   "outputs": [],
   "source": [
    "flags_defined = True"
   ]
  },
  {
   "cell_type": "code",
   "execution_count": 7,
   "metadata": {},
   "outputs": [
    {
     "data": {
      "text/plain": [
       "['python']"
      ]
     },
     "execution_count": 7,
     "metadata": {},
     "output_type": "execute_result"
    }
   ],
   "source": [
    "FLAGS(sys.argv)"
   ]
  },
  {
   "cell_type": "code",
   "execution_count": 8,
   "metadata": {},
   "outputs": [
    {
     "name": "stdout",
     "output_type": "stream",
     "text": [
      "[Agent(race=<Race.random: 4>, name='<unknown>')]\n"
     ]
    }
   ],
   "source": [
    "players = []\n",
    "players.append(sc2_env.Agent(sc2_env.Race[FLAGS.agent_race]))\n",
    "print(players)"
   ]
  },
  {
   "cell_type": "code",
   "execution_count": 9,
   "metadata": {},
   "outputs": [
    {
     "name": "stdout",
     "output_type": "stream",
     "text": [
      "Simple64\n",
      "True\n"
     ]
    }
   ],
   "source": [
    "map_name = FLAGS.map\n",
    "visualize = True\n",
    "print(map_name)\n",
    "print(visualize)"
   ]
  },
  {
   "cell_type": "markdown",
   "metadata": {},
   "source": [
    "------------------------------"
   ]
  },
  {
   "cell_type": "markdown",
   "metadata": {},
   "source": [
    "## Random Agent Example"
   ]
  },
  {
   "cell_type": "markdown",
   "metadata": {},
   "source": [
    "##### 참고자료\n",
    "* [5] Build a Zerg Bot with PySC2 2.0 - https://itnext.io/build-a-zerg-bot-with-pysc2-2-0-295375d2f58e\n",
    "(github) \n",
    "    - How To: PySC2 - https://github.com/skjb/pysc2-tutorial"
   ]
  },
  {
   "cell_type": "code",
   "execution_count": 10,
   "metadata": {},
   "outputs": [],
   "source": [
    "from pysc2.agents import random_agent"
   ]
  },
  {
   "cell_type": "code",
   "execution_count": 11,
   "metadata": {},
   "outputs": [],
   "source": [
    "import pysc2.agents"
   ]
  },
  {
   "cell_type": "code",
   "execution_count": 12,
   "metadata": {},
   "outputs": [
    {
     "data": {
      "text/plain": [
       "['__builtins__',\n",
       " '__cached__',\n",
       " '__doc__',\n",
       " '__file__',\n",
       " '__loader__',\n",
       " '__name__',\n",
       " '__package__',\n",
       " '__path__',\n",
       " '__spec__',\n",
       " 'base_agent',\n",
       " 'random_agent']"
      ]
     },
     "execution_count": 12,
     "metadata": {},
     "output_type": "execute_result"
    }
   ],
   "source": [
    "dir(pysc2.agents)"
   ]
  },
  {
   "cell_type": "code",
   "execution_count": 13,
   "metadata": {},
   "outputs": [
    {
     "name": "stderr",
     "output_type": "stream",
     "text": [
      "/Users/moodern/anaconda3/envs/deepstar/lib/python3.5/site-packages/pysc2/lib/features.py:862: FutureWarning: arrays to stack must be passed as a \"sequence\" type such as list or tuple. Support for non-sequence iterables such as generators is deprecated as of NumPy 1.16 and will raise an error in the future.\n",
      "  for f in SCREEN_FEATURES),\n",
      "/Users/moodern/anaconda3/envs/deepstar/lib/python3.5/site-packages/pysc2/lib/features.py:867: FutureWarning: arrays to stack must be passed as a \"sequence\" type such as list or tuple. Support for non-sequence iterables such as generators is deprecated as of NumPy 1.16 and will raise an error in the future.\n",
      "  for f in MINIMAP_FEATURES),\n"
     ]
    },
    {
     "name": "stdout",
     "output_type": "stream",
     "text": [
      "FunctionCall(function=2, arguments=[[2], [3, 6]])\n",
      "FunctionCall(function=3, arguments=[[0], [66, 10], [43, 42]])\n",
      "FunctionCall(function=1, arguments=[[14, 41]])\n",
      "FunctionCall(function=1, arguments=[[55, 59]])\n",
      "FunctionCall(function=0, arguments=[])\n",
      "FunctionCall(function=1, arguments=[[20, 17]])\n",
      "FunctionCall(function=2, arguments=[[2], [43, 18]])\n",
      "FunctionCall(function=0, arguments=[])\n",
      "FunctionCall(function=3, arguments=[[1], [65, 4], [67, 75]])\n",
      "FunctionCall(function=0, arguments=[])\n"
     ]
    },
    {
     "name": "stderr",
     "output_type": "stream",
     "text": [
      "W0401 19:17:25.793968 140736103465792 sc_process.py:204] Killing the process.\n"
     ]
    }
   ],
   "source": [
    "with sc2_env.SC2Env(\n",
    "          map_name=map_name,\n",
    "          players=players,\n",
    "          agent_interface_format=sc2_env.parse_agent_interface_format(\n",
    "              feature_screen=FLAGS.feature_screen_size,\n",
    "              feature_minimap=FLAGS.feature_minimap_size,\n",
    "              rgb_screen=FLAGS.rgb_screen_size,\n",
    "              rgb_minimap=FLAGS.rgb_minimap_size,\n",
    "              action_space=FLAGS.action_space,\n",
    "              use_feature_units=FLAGS.use_feature_units),\n",
    "          step_mul=FLAGS.step_mul,\n",
    "          game_steps_per_episode=FLAGS.game_steps_per_episode,\n",
    "          disable_fog=FLAGS.disable_fog,\n",
    "          visualize=visualize) as env :\n",
    "\n",
    "    agent = random_agent.RandomAgent()\n",
    "    agent.setup(env.observation_spec()[0], env.action_spec()[0])\n",
    "    \n",
    "    done = False\n",
    "    global_step = 0\n",
    "    \n",
    "    obs = env.reset()\n",
    "    \n",
    "    while not done : \n",
    "        global_step += 1\n",
    "\n",
    "        #print(obs)\n",
    "        action = agent.step(obs[0])\n",
    "        print(action)\n",
    "        obs = env.step(actions=[action])\n",
    "       \n",
    "        if global_step == 10:\n",
    "            done = True"
   ]
  },
  {
   "cell_type": "markdown",
   "metadata": {},
   "source": [
    "-----------------------"
   ]
  },
  {
   "cell_type": "markdown",
   "metadata": {},
   "source": [
    "# Building a Basic PySC2 Agent"
   ]
  },
  {
   "cell_type": "markdown",
   "metadata": {},
   "source": [
    "## 1. Creating an Agent"
   ]
  },
  {
   "cell_type": "markdown",
   "metadata": {},
   "source": [
    "SimpleAgent 클래스를 아래처럼 만들자"
   ]
  },
  {
   "cell_type": "code",
   "execution_count": 14,
   "metadata": {},
   "outputs": [],
   "source": [
    "from pysc2.agents import base_agent\n",
    "from pysc2.lib import actions\n",
    "\n",
    "class SimpleAgent(base_agent.BaseAgent):\n",
    "    def step(self, obs):\n",
    "        super(SimpleAgent, self).step(obs)\n",
    "        \n",
    "        return actions.FunctionCall(actions.FUNCTIONS.no_op.id, [])"
   ]
  },
  {
   "cell_type": "code",
   "execution_count": 15,
   "metadata": {},
   "outputs": [
    {
     "name": "stderr",
     "output_type": "stream",
     "text": [
      "/Users/moodern/anaconda3/envs/deepstar/lib/python3.5/site-packages/pysc2/lib/features.py:862: FutureWarning: arrays to stack must be passed as a \"sequence\" type such as list or tuple. Support for non-sequence iterables such as generators is deprecated as of NumPy 1.16 and will raise an error in the future.\n",
      "  for f in SCREEN_FEATURES),\n",
      "/Users/moodern/anaconda3/envs/deepstar/lib/python3.5/site-packages/pysc2/lib/features.py:867: FutureWarning: arrays to stack must be passed as a \"sequence\" type such as list or tuple. Support for non-sequence iterables such as generators is deprecated as of NumPy 1.16 and will raise an error in the future.\n",
      "  for f in MINIMAP_FEATURES),\n"
     ]
    },
    {
     "name": "stdout",
     "output_type": "stream",
     "text": [
      "FunctionCall(function=<_Functions.no_op: 0>, arguments=[])\n",
      "FunctionCall(function=<_Functions.no_op: 0>, arguments=[])\n",
      "FunctionCall(function=<_Functions.no_op: 0>, arguments=[])\n",
      "FunctionCall(function=<_Functions.no_op: 0>, arguments=[])\n",
      "FunctionCall(function=<_Functions.no_op: 0>, arguments=[])\n",
      "FunctionCall(function=<_Functions.no_op: 0>, arguments=[])\n",
      "FunctionCall(function=<_Functions.no_op: 0>, arguments=[])\n",
      "FunctionCall(function=<_Functions.no_op: 0>, arguments=[])\n",
      "FunctionCall(function=<_Functions.no_op: 0>, arguments=[])\n",
      "FunctionCall(function=<_Functions.no_op: 0>, arguments=[])\n"
     ]
    }
   ],
   "source": [
    "with sc2_env.SC2Env(\n",
    "          map_name=map_name,\n",
    "          players=players,\n",
    "          agent_interface_format=sc2_env.parse_agent_interface_format(\n",
    "              feature_screen=FLAGS.feature_screen_size,\n",
    "              feature_minimap=FLAGS.feature_minimap_size,\n",
    "              rgb_screen=FLAGS.rgb_screen_size,\n",
    "              rgb_minimap=FLAGS.rgb_minimap_size,\n",
    "              action_space=FLAGS.action_space,\n",
    "              use_feature_units=FLAGS.use_feature_units),\n",
    "          step_mul=FLAGS.step_mul,\n",
    "          game_steps_per_episode=FLAGS.game_steps_per_episode,\n",
    "          disable_fog=FLAGS.disable_fog,\n",
    "          visualize=visualize) as env :\n",
    "\n",
    "    agent = SimpleAgent()\n",
    "    agent.setup(env.observation_spec()[0], env.action_spec()[0])\n",
    "    \n",
    "    done = False\n",
    "    global_step = 0\n",
    "    \n",
    "    obs = env.reset()\n",
    "    \n",
    "    while not done : \n",
    "        global_step += 1\n",
    "\n",
    "        #print(obs)\n",
    "        action = agent.step(obs[0])\n",
    "        print(action)\n",
    "        obs = env.step(actions=[action])\n",
    "       \n",
    "        if global_step == 10:\n",
    "            done = True"
   ]
  },
  {
   "cell_type": "markdown",
   "metadata": {},
   "source": [
    "### 참고) simple_agent.py 파일을 만들어서 실행할 수도 있다."
   ]
  },
  {
   "cell_type": "code",
   "execution_count": 16,
   "metadata": {},
   "outputs": [
    {
     "name": "stdout",
     "output_type": "stream",
     "text": [
      "Overwriting simple_agent.py\n"
     ]
    }
   ],
   "source": [
    "%%writefile simple_agent.py\n",
    "from pysc2.agents import base_agent\n",
    "from pysc2.lib import actions\n",
    "\n",
    "class SimpleAgent(base_agent.BaseAgent):\n",
    "    def step(self, obs):\n",
    "        super(SimpleAgent, self).step(obs)\n",
    "        \n",
    "        return actions.FunctionCall(actions.FUNCTIONS.no_op.id, [])"
   ]
  },
  {
   "cell_type": "code",
   "execution_count": 17,
   "metadata": {},
   "outputs": [
    {
     "name": "stdout",
     "output_type": "stream",
     "text": [
      "02_pysc2_basic_01_env_states_actions_with_jupyter.ipynb\r\n",
      "02_pysc2_basic_02_building_pysc2_agent_with_jupyter.ipynb\r\n",
      "simple_agent.py\r\n"
     ]
    }
   ],
   "source": [
    "%ls"
   ]
  },
  {
   "cell_type": "code",
   "execution_count": 20,
   "metadata": {},
   "outputs": [
    {
     "name": "stdout",
     "output_type": "stream",
     "text": [
      "I0401 19:22:01.851667 140736103465792 sc_process.py:110] Launching SC2: /Applications/StarCraft II/Versions/Base72282/SC2.app/Contents/MacOS/SC2 -listen 127.0.0.1 -port 18367 -dataDir /Applications/StarCraft II/ -tempDir /var/folders/5n/qdpyvzc169jbh39gdpl_yfsc0000gn/T/sc-9jbeo43x/ -displayMode 0 -windowwidth 640 -windowheight 480 -windowx 50 -windowy 50\n",
      "I0401 19:22:01.859534 140736103465792 remote_controller.py:163] Connecting to: ws://127.0.0.1:18367/sc2api, attempt: 0, running: True\n",
      "err = 3 /opt/blizzard/buildserver/data.noindex/repositories/sc2/branches/SC2.4.8.b/Game/Contrib/macteam/libs/ClampCursor/Contrib/mach_override/mach_override.c:244\n",
      "err = 3 /opt/blizzard/buildserver/data.noindex/repositories/sc2/branches/SC2.4.8.b/Game/Contrib/macteam/libs/ClampCursor/Contrib/mach_override/mach_override.c:258\n",
      "err = 3 /opt/blizzard/buildserver/data.noindex/repositories/sc2/branches/SC2.4.8.b/Game/Contrib/macteam/libs/ClampCursor/Contrib/mach_override/mach_override.c:263\n",
      "NSWindowEdgeResizing is off!\n",
      "I0401 19:22:02.869678 140736103465792 remote_controller.py:163] Connecting to: ws://127.0.0.1:18367/sc2api, attempt: 1, running: True\n",
      "I0401 19:22:03.874219 140736103465792 remote_controller.py:163] Connecting to: ws://127.0.0.1:18367/sc2api, attempt: 2, running: True\n",
      "I0401 19:22:04.877482 140736103465792 remote_controller.py:163] Connecting to: ws://127.0.0.1:18367/sc2api, attempt: 3, running: True\n",
      "I0401 19:22:05.880266 140736103465792 remote_controller.py:163] Connecting to: ws://127.0.0.1:18367/sc2api, attempt: 4, running: True\n",
      "I0401 19:22:06.883364 140736103465792 remote_controller.py:163] Connecting to: ws://127.0.0.1:18367/sc2api, attempt: 5, running: True\n",
      "I0401 19:22:07.886447 140736103465792 remote_controller.py:163] Connecting to: ws://127.0.0.1:18367/sc2api, attempt: 6, running: True\n",
      "I0401 19:22:08.891726 140736103465792 remote_controller.py:163] Connecting to: ws://127.0.0.1:18367/sc2api, attempt: 7, running: True\n",
      "I0401 19:22:09.892781 140736103465792 remote_controller.py:163] Connecting to: ws://127.0.0.1:18367/sc2api, attempt: 8, running: True\n",
      "I0401 19:22:10.895589 140736103465792 remote_controller.py:163] Connecting to: ws://127.0.0.1:18367/sc2api, attempt: 9, running: True\n",
      "I0401 19:22:11.901083 140736103465792 remote_controller.py:163] Connecting to: ws://127.0.0.1:18367/sc2api, attempt: 10, running: True\n",
      "I0401 19:22:20.533936 140736103465792 sc2_env.py:322] Environment is ready on map: Simple64\n",
      "I0401 19:22:20.534213 140736103465792 sc2_env.py:462] Starting episode: 1\n",
      "/Users/moodern/anaconda3/envs/deepstar/lib/python3.5/site-packages/pysc2/lib/features.py:862: FutureWarning: arrays to stack must be passed as a \"sequence\" type such as list or tuple. Support for non-sequence iterables such as generators is deprecated as of NumPy 1.16 and will raise an error in the future.\n",
      "  for f in SCREEN_FEATURES),\n",
      "/Users/moodern/anaconda3/envs/deepstar/lib/python3.5/site-packages/pysc2/lib/features.py:867: FutureWarning: arrays to stack must be passed as a \"sequence\" type such as list or tuple. Support for non-sequence iterables such as generators is deprecated as of NumPy 1.16 and will raise an error in the future.\n",
      "  for f in MINIMAP_FEATURES),\n",
      "   0/no_op                                              ()\n",
      "   1/move_camera                                        (1/minimap [64, 64])\n",
      "   2/select_point                                       (6/select_point_act [4]; 0/screen [84, 84])\n",
      "   3/select_rect                                        (7/select_add [2]; 0/screen [84, 84]; 2/screen2 [84, 84])\n",
      "   4/select_control_group                               (4/control_group_act [5]; 5/control_group_id [10])\n",
      "I0401 19:22:37.394167 140736103465792 sc2_env.py:632] Episode 1 finished after 6617 game steps. Outcome: [-1], reward: [-1], score: [4385]\n",
      "Took 18.456 seconds for 829 steps: 44.918 fps\n",
      "I0401 19:22:38.990109 140736103465792 sc2_env.py:656] Environment Close\n",
      "W0401 19:22:42.214118 140736103465792 sc_process.py:204] Killing the process.\n",
      "I0401 19:22:42.435822 140736103465792 sc_process.py:182] Shutdown with return code: -9\n",
      "Traceback (most recent call last):\n",
      "  File \"/Users/moodern/anaconda3/envs/deepstar/lib/python3.5/site-packages/pysc2/lib/protocol.py\", line 62, in catch_websocket_connection_errors\n",
      "    yield\n",
      "  File \"/Users/moodern/anaconda3/envs/deepstar/lib/python3.5/site-packages/pysc2/lib/protocol.py\", line 161, in _read\n",
      "    response_str = self._sock.recv()\n",
      "  File \"/Users/moodern/anaconda3/envs/deepstar/lib/python3.5/site-packages/websocket/_core.py\", line 313, in recv\n",
      "    opcode, data = self.recv_data()\n",
      "  File \"/Users/moodern/anaconda3/envs/deepstar/lib/python3.5/site-packages/websocket/_core.py\", line 330, in recv_data\n",
      "    opcode, frame = self.recv_data_frame(control_frame)\n",
      "  File \"/Users/moodern/anaconda3/envs/deepstar/lib/python3.5/site-packages/websocket/_core.py\", line 343, in recv_data_frame\n",
      "    frame = self.recv_frame()\n",
      "  File \"/Users/moodern/anaconda3/envs/deepstar/lib/python3.5/site-packages/websocket/_core.py\", line 377, in recv_frame\n",
      "    return self.frame_buffer.recv_frame()\n",
      "  File \"/Users/moodern/anaconda3/envs/deepstar/lib/python3.5/site-packages/websocket/_abnf.py\", line 361, in recv_frame\n",
      "    self.recv_header()\n",
      "  File \"/Users/moodern/anaconda3/envs/deepstar/lib/python3.5/site-packages/websocket/_abnf.py\", line 309, in recv_header\n",
      "    header = self.recv_strict(2)\n",
      "  File \"/Users/moodern/anaconda3/envs/deepstar/lib/python3.5/site-packages/websocket/_abnf.py\", line 396, in recv_strict\n",
      "    bytes_ = self.recv(min(16384, shortage))\n",
      "  File \"/Users/moodern/anaconda3/envs/deepstar/lib/python3.5/site-packages/websocket/_core.py\", line 452, in _recv\n",
      "    return recv(self.sock, bufsize)\n",
      "  File \"/Users/moodern/anaconda3/envs/deepstar/lib/python3.5/site-packages/websocket/_socket.py\", line 112, in recv\n",
      "    \"Connection is already closed.\")\n",
      "websocket._exceptions.WebSocketConnectionClosedException: Connection is already closed.\n",
      "\n",
      "During handling of the above exception, another exception occurred:\n",
      "\n",
      "Traceback (most recent call last):\n",
      "  File \"/Users/moodern/anaconda3/envs/deepstar/lib/python3.5/runpy.py\", line 193, in _run_module_as_main\n",
      "    \"__main__\", mod_spec)\n",
      "  File \"/Users/moodern/anaconda3/envs/deepstar/lib/python3.5/runpy.py\", line 85, in _run_code\n",
      "    exec(code, run_globals)\n",
      "  File \"/Users/moodern/anaconda3/envs/deepstar/lib/python3.5/site-packages/pysc2/bin/agent.py\", line 154, in <module>\n",
      "    app.run(main)\n",
      "  File \"/Users/moodern/anaconda3/envs/deepstar/lib/python3.5/site-packages/absl/app.py\", line 300, in run\n",
      "    _run_main(main, args)\n",
      "  File \"/Users/moodern/anaconda3/envs/deepstar/lib/python3.5/site-packages/absl/app.py\", line 251, in _run_main\n",
      "    sys.exit(main(argv))\n",
      "  File \"/Users/moodern/anaconda3/envs/deepstar/lib/python3.5/site-packages/pysc2/bin/agent.py\", line 140, in main\n",
      "    run_thread(agent_classes, players, FLAGS.map, FLAGS.render)\n",
      "  File \"/Users/moodern/anaconda3/envs/deepstar/lib/python3.5/site-packages/pysc2/bin/agent.py\", line 101, in run_thread\n",
      "    run_loop.run_loop(agents, env, FLAGS.max_agent_steps, FLAGS.max_episodes)\n",
      "  File \"/Users/moodern/anaconda3/envs/deepstar/lib/python3.5/site-packages/pysc2/env/run_loop.py\", line 37, in run_loop\n",
      "    timesteps = env.reset()\n",
      "  File \"/Users/moodern/anaconda3/envs/deepstar/lib/python3.5/site-packages/pysc2/env/base_env_wrapper.py\", line 39, in reset\n",
      "    return self._env.reset(*args, **kwargs)\n",
      "  File \"/Users/moodern/anaconda3/envs/deepstar/lib/python3.5/site-packages/pysc2/lib/stopwatch.py\", line 201, in _stopwatch\n",
      "    return func(*args, **kwargs)\n",
      "  File \"/Users/moodern/anaconda3/envs/deepstar/lib/python3.5/site-packages/pysc2/env/sc2_env.py\", line 459, in reset\n",
      "    self._restart()\n",
      "  File \"/Users/moodern/anaconda3/envs/deepstar/lib/python3.5/site-packages/pysc2/env/sc2_env.py\", line 446, in _restart\n",
      "    self._controllers[0].restart()\n",
      "  File \"/Users/moodern/anaconda3/envs/deepstar/lib/python3.5/site-packages/pysc2/lib/remote_controller.py\", line 96, in _valid_status\n",
      "    return func(self, *args, **kwargs)\n",
      "  File \"/Users/moodern/anaconda3/envs/deepstar/lib/python3.5/site-packages/pysc2/lib/remote_controller.py\", line 71, in _check_error\n",
      "    return check_error(func(*args, **kwargs), error_enum)\n",
      "  File \"/Users/moodern/anaconda3/envs/deepstar/lib/python3.5/site-packages/pysc2/lib/stopwatch.py\", line 201, in _stopwatch\n",
      "    return func(*args, **kwargs)\n",
      "  File \"/Users/moodern/anaconda3/envs/deepstar/lib/python3.5/site-packages/pysc2/lib/remote_controller.py\", line 206, in restart\n",
      "    return self._client.send(restart_game=sc_pb.RequestRestartGame())\n",
      "  File \"/Users/moodern/anaconda3/envs/deepstar/lib/python3.5/site-packages/pysc2/lib/protocol.py\", line 136, in send\n",
      "    res = self.send_req(sc_pb.Request(**kwargs))\n",
      "  File \"/Users/moodern/anaconda3/envs/deepstar/lib/python3.5/site-packages/pysc2/lib/protocol.py\", line 122, in send_req\n",
      "    return self.read()\n",
      "  File \"/Users/moodern/anaconda3/envs/deepstar/lib/python3.5/site-packages/pysc2/lib/stopwatch.py\", line 201, in _stopwatch\n",
      "    return func(*args, **kwargs)\n",
      "  File \"/Users/moodern/anaconda3/envs/deepstar/lib/python3.5/site-packages/pysc2/lib/protocol.py\", line 95, in read\n",
      "    response = self._read()\n",
      "  File \"/Users/moodern/anaconda3/envs/deepstar/lib/python3.5/site-packages/pysc2/lib/protocol.py\", line 161, in _read\n",
      "    response_str = self._sock.recv()\n",
      "  File \"/Users/moodern/anaconda3/envs/deepstar/lib/python3.5/contextlib.py\", line 77, in __exit__\n",
      "    self.gen.throw(type, value, traceback)\n",
      "  File \"/Users/moodern/anaconda3/envs/deepstar/lib/python3.5/site-packages/pysc2/lib/protocol.py\", line 64, in catch_websocket_connection_errors\n",
      "    raise ConnectionError(\"Connection already closed. SC2 probably crashed. \"\n",
      "pysc2.lib.protocol.ConnectionError: Connection already closed. SC2 probably crashed. Check the error log.\n"
     ]
    },
    {
     "name": "stdout",
     "output_type": "stream",
     "text": [
      "I0401 19:22:42.509917 140736103465792 sc2_env.py:656] Environment Close\r\n",
      "I0401 19:22:42.510200 140736103465792 sc2_env.py:656] Environment Close\r\n"
     ]
    }
   ],
   "source": [
    "!python -m pysc2.bin.agent --map Simple64 --agent simple_agent.SimpleAgent --agent_race terran"
   ]
  },
  {
   "cell_type": "markdown",
   "metadata": {},
   "source": [
    "## 2. Controlling an SCV"
   ]
  },
  {
   "cell_type": "markdown",
   "metadata": {},
   "source": [
    "먼저 코드 작성이 편하도록 몇 가지 상수를 정의."
   ]
  },
  {
   "cell_type": "code",
   "execution_count": 22,
   "metadata": {},
   "outputs": [],
   "source": [
    "from pysc2.agents import base_agent\n",
    "from pysc2.lib import actions\n",
    "from pysc2.lib import features"
   ]
  },
  {
   "cell_type": "code",
   "execution_count": 23,
   "metadata": {},
   "outputs": [],
   "source": [
    "# Functions\n",
    "_BUILD_SUPPLYDEPOT = actions.FUNCTIONS.Build_SupplyDepot_screen.id\n",
    "_NOOP = actions.FUNCTIONS.no_op.id\n",
    "_SELECT_POINT = actions.FUNCTIONS.select_point.id\n",
    "\n",
    "# Features\n",
    "_PLAYER_RELATIVE = features.SCREEN_FEATURES.player_relative.index\n",
    "_UNIT_TYPE = features.SCREEN_FEATURES.unit_type.index\n",
    "\n",
    "# Unit IDs\n",
    "_TERRAN_COMMANDCENTER = 18\n",
    "_TERRAN_SCV = 45\n",
    "\n",
    "# Parameters\n",
    "_PLAYER_SELF = 1\n",
    "_NOT_QUEUED = [0]\n",
    "_QUEUED = [1]"
   ]
  },
  {
   "cell_type": "markdown",
   "metadata": {},
   "source": [
    "On the Simple64 map there are two spawn locations, one at the top left, and another at the bottom right. In order to build and rally units relative to these positions we first need to detect where we have spawned. Just as a human would, we look at the mini map to determine where our units are located. Let’s add a variable to store our location:\n",
    "(구글 번역 :\n",
    "Simple64 맵에는 두 개의 스폰 위치가 있습니다. 하나는 왼쪽 상단에, 다른 하나는 오른쪽 하단에 있습니다. 이러한 위치와 관련하여 유닛을 구축하고 집계하기 위해서는 먼저 우리가 어디에서 스폰했는지 탐지해야합니다. 인간처럼 우리는 미니 맵을보고 유닛이 어디에 위치해 있는지 확인합니다. 우리 위치를 저장할 변수를 추가합시다.)"
   ]
  },
  {
   "cell_type": "markdown",
   "metadata": {},
   "source": [
    "```python\n",
    "class SimpleAgent(base_agent.BaseAgent):\n",
    "   base_top_left = None\n",
    "```"
   ]
  },
  {
   "cell_type": "markdown",
   "metadata": {},
   "source": [
    "The mini map is 64 units across and 64 units tall, with (0, 0) being the top left coordinate. Values we receive are 0 indexed, so we can assume that anything with an x or y coordinate between 0 and 31 is at the top left. Anything with an x or y coordinate between 32 and 63 is at the bottom right.\n",
    "(구글 번역 :\n",
    "미니지도는 가로 세로 64 단위이고 높이는 64 단위이며, 왼쪽 상단 좌표는 (0, 0)입니다. 우리가받은 값은 0으로 인덱싱되므로, 0과 31 사이 의 x 또는 y 좌표 를 갖는 것이 왼쪽 상단에 있다고 가정 할 수 있습니다 . 32와 63 사이 의 x 또는 y 좌표를 가진 것은 오른쪽 하단에 있습니다.)\n",
    "\n",
    "One of the observation sets is “player relative” data. This array contains a list of units arranged “relative” to the current player. In this case we want to find all units that belong to the current player, then we can get the mean of their coordinates to roughly determine where our base is. Since the first parameter is the y coordinate, we can use that:\n",
    "(구글 번역 : \n",
    "관찰 세트 중 하나는 \"플레이어 상대\"데이터입니다. 이 배열은 현재 플레이어에게 \"상대적으로\"배열 된 유닛 목록을 포함합니다. 이 경우 현재 플레이어에 속한 모든 유닛을 찾고 싶습니다. 좌표 의 평균 을 구하면 근본적인 위치를 대략적으로 결정할 수 있습니다. 첫 번째 매개 변수는 y 좌표이므로 다음과 같이 사용할 수 있습니다.)\n"
   ]
  },
  {
   "cell_type": "markdown",
   "metadata": {},
   "source": [
    "```python\n",
    "def step(self, obs):\n",
    "        super(SimpleAgent, self).step(obs)\n",
    "        \n",
    "        time.sleep(0.5)\n",
    "        \n",
    "        if self.base_top_left is None:\n",
    "            player_y, player_x = (obs.observation[\"minimap\"][_PLAYER_RELATIVE] == _PLAYER_SELF).nonzero()\n",
    "```"
   ]
  },
  {
   "cell_type": "code",
   "execution_count": null,
   "metadata": {},
   "outputs": [],
   "source": [
    "class SimpleAgent(base_agent.BaseAgent):\n",
    "    base_top_left = None\n",
    "    \n",
    "    def step(self, obs):\n",
    "        super(SimpleAgent, self).step(obs)\n",
    "        \n",
    "        time.sleep(0.5)\n",
    "\n",
    "        if self.base_top_left is None:\n",
    "            player_y, player_x = (obs.observation[\"minimap\"][_PLAYER_RELATIVE] == _PLAYER_SELF).nonzero()\n",
    "        \n",
    "        return actions.FunctionCall(actions.FUNCTIONS.no_op.id, [])"
   ]
  },
  {
   "cell_type": "markdown",
   "metadata": {},
   "source": [
    "# 참고자료\n",
    "* [1] pysc2 environments doc - https://github.com/deepmind/pysc2/blob/master/docs/environment.md\n",
    "* [2] Train your first Starcraft II learning agent - \n",
    "https://soygema.github.io/starcraftII_machine_learning\n",
    "* [3] How to train StarCraft II Bots - https://colab.research.google.com/drive/1AzCKV98UaQQz2aJIeGWlExcxBrpgKsIV\n",
    "* [4] chagmgang's Reinforcement Learning with StarCraft II - https://drive.google.com/file/d/10641_2vgu937r0FjxxArC1fZTRv5aH1n/view\n",
    "* [5] Build a Zerg Bot with PySC2 2.0 - https://itnext.io/build-a-zerg-bot-with-pysc2-2-0-295375d2f58e\n",
    "     - (github) How To: PySC2 - https://github.com/skjb/pysc2-tutorial"
   ]
  }
 ],
 "metadata": {
  "kernelspec": {
   "display_name": "Python 3",
   "language": "python",
   "name": "python3"
  },
  "language_info": {
   "codemirror_mode": {
    "name": "ipython",
    "version": 3
   },
   "file_extension": ".py",
   "mimetype": "text/x-python",
   "name": "python",
   "nbconvert_exporter": "python",
   "pygments_lexer": "ipython3",
   "version": "3.5.6"
  }
 },
 "nbformat": 4,
 "nbformat_minor": 2
}
