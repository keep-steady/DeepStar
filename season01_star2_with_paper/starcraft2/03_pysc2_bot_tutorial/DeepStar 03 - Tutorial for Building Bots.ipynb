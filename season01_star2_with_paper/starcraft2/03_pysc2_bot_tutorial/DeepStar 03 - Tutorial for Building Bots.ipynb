{
 "cells": [
  {
   "cell_type": "markdown",
   "metadata": {},
   "source": [
    "# Main Reference\n",
    "\n",
    "- [How To: PySC2](https://github.com/skjb/pysc2-tutorial)\n",
    "- 목표: 자신의 SC2 봇 만들기\n",
    "- 일차적으로 테란 중심으로 기술. (이후 저그나 프로토스로 확장 예정)\n",
    "\n",
    "# 목차\n",
    "## (Building a Basic Agent)[https://itnext.io/build-a-zerg-bot-with-pysc2-2-0-295375d2f58e]\n",
    "## Building a Simple RL Agent\n",
    "## Add Smart Attacking to Your Agent\n",
    "## Building a Sparse Reward Agent\n",
    "## Refine Your Sparse PySC2 Agent"
   ]
  },
  {
   "cell_type": "markdown",
   "metadata": {},
   "source": [
    "# Building a Zerg Bot with PySC2 2.0\n",
    "\n",
    "- [Link](https://chatbotslife.com/building-a-basic-pysc2-agent-b109cde1477c) 은 PySC2 2.0 이전 버젼으로 가동되던 것 --> [Link](https://itnext.io/build-a-zerg-bot-with-pysc2-2-0-295375d2f58e)\n",
    "\n"
   ]
  },
  {
   "cell_type": "code",
   "execution_count": 5,
   "metadata": {},
   "outputs": [],
   "source": [
    "# 이 부분은 발제자 import 문제로 추가되어 있는 것임. 다른 분들은 실행할 필요 없음\n",
    "import sys\n",
    "sys.path.append(\"/Users/j/Documents/seminar/2019/DeepStar/venv/lib/python3.7/site-packages\")"
   ]
  },
  {
   "cell_type": "markdown",
   "metadata": {},
   "source": [
    "## Creating the Basic Agent\n",
    "### Overall Process\n",
    "\n",
    "- Importing Essential Modules --> Add the Run Code --> Select a Drone --> Build a Spawning Pool --> Build Zerglings --> Spawn More Overloads --> Attack!\n",
    "- 주의사항: 아래 코드는 튜토리얼 특성상 부분 실행보다는 통으로 실행하길 권장\n",
    "\n",
    "### Importing Essential Modules"
   ]
  },
  {
   "cell_type": "code",
   "execution_count": 4,
   "metadata": {},
   "outputs": [
    {
     "name": "stdout",
     "output_type": "stream",
     "text": [
      "pygame 1.9.4\n",
      "Hello from the pygame community. https://www.pygame.org/contribute.html\n"
     ]
    }
   ],
   "source": [
    "from pysc2.agents import base_agent\n",
    "from pysc2.env import sc2_env\n",
    "from pysc2.lib import actions, features\n",
    "from absl import app"
   ]
  },
  {
   "cell_type": "markdown",
   "metadata": {},
   "source": [
    "### Creating Agent"
   ]
  },
  {
   "cell_type": "code",
   "execution_count": 7,
   "metadata": {},
   "outputs": [],
   "source": [
    "class ZergAgent(base_agent.BaseAgent):\n",
    "  def step(self, obs):\n",
    "    super(ZergAgent, self).step(obs)\n",
    "    \n",
    "    return actions.FUNCTIONS.no_op()"
   ]
  },
  {
   "cell_type": "markdown",
   "metadata": {},
   "source": [
    "- The ```step``` method is the core part of our agent, ***it’s where all of our decision making takes place.*** ***At the end of every step you must return an action,*** in this case the action is to do nothing. We will add some more actions soon.\n",
    "- If you followed my previous tutorials you will notice that the format for the action has changed, previously the last line would have been:"
   ]
  },
  {
   "cell_type": "markdown",
   "metadata": {},
   "source": [
    "### Add the Run Code"
   ]
  },
  {
   "cell_type": "code",
   "execution_count": 23,
   "metadata": {},
   "outputs": [],
   "source": [
    "def main(unused_argv):\n",
    "    agent = ZergAgent()\n",
    "    try:\n",
    "        while True:\n",
    "            with sc2_env.SC2Env(\n",
    "                map_name=\"Automaton\", # 맵을 오토메이톤으로 세팅\n",
    "                players=[sc2_env.Agent(sc2_env.Race.zerg), # 저그종족.\n",
    "                       # 다른 선택 가능 종족은 protoss, terran, random 이 있음\n",
    "                    sc2_env.Bot(sc2_env.Race.random,\n",
    "                        sc2_env.Difficulty.very_easy)],\n",
    "                        # 상대를 Bot으로 할 것이며, 종족은 random, 난이도는 매우 쉬움\n",
    "                        # 여기에 다른 agent를 설정할 수 있음\n",
    "                    agent_interface_format=features.AgentInterfaceFormat(\n",
    "                        feature_dimensions=features.Dimensions(screen=84, minimap=64)),\n",
    "                        step_mul=16,\n",
    "                        # 액션 설정. 8 -> 300APM, 16 --> 150APM \n",
    "                        game_steps_per_episode=0,\n",
    "                        # 디폴트는 30분인데, 여기에서는 endless로 설정\n",
    "                        visualize=True) as env:\n",
    "                        # 스크린과 미니맵 해상도 설정\n",
    "                        # PySC2 2.0에서는 RGB 레이어를 추가할 수 있음 \n",
    "                agent.setup(env.observation_spec(), env.action_spec())\n",
    "\n",
    "                timesteps = env.reset()\n",
    "                agent.reset()\n",
    "\n",
    "                while True:\n",
    "                    step_actions = [agent.step(timesteps[0])]\n",
    "                    if timesteps[0].last():\n",
    "                        break\n",
    "                    timesteps = env.step(step_actions)\n",
    "      \n",
    "    except KeyboardInterrupt:\n",
    "        pass\n",
    "  \n",
    "    if __name__ == \"__main__\":\n",
    "        app.run(main)"
   ]
  },
  {
   "cell_type": "markdown",
   "metadata": {},
   "source": [
    "- 실행전에 ```[Startraft2 root]/Maps/Ladder2019Season1/``` 폴더에 ```AutomatonLE.SC2Map``` 맵을 복사해야 함. \n",
    "- ```AutomatonLE.SC2Map``` 파일은 본 문서가 있는 폴더에 업로드\n",
    "    - 예제에서는 Abyssal Reef LE 맵을 사용했지만 다른 맵을 사용해도 무방함. 여기에서는 맵 파일을 구할 수 있었던 오토메이턴을 사용\n",
    "- ```python zerg_agent.py``` 실행\n",
    "- zerg_agent.py 파일은 본 문서가 있는 폴더에 있음. "
   ]
  },
  {
   "cell_type": "markdown",
   "metadata": {},
   "source": [
    "### Select a Drone\n",
    "- 최초 공격 유닛인 저글링을 생산하기 전 단계로 필요 건물인 스포닝 풀(산란못)이 필요함. 저그의 경우에는 건물을 드론(일벌레)이 변태하는 방식으로 짓기 때문에 이를 위해서 필요한 최초 행동은 드론을 선택하는 것임"
   ]
  },
  {
   "cell_type": "code",
   "execution_count": 24,
   "metadata": {},
   "outputs": [],
   "source": [
    "from pysc2.lib import actions, features, units\n",
    "import random"
   ]
  },
  {
   "cell_type": "markdown",
   "metadata": {},
   "source": [
    "- feature unit 사용가능하게 만들기"
   ]
  },
  {
   "cell_type": "code",
   "execution_count": 25,
   "metadata": {},
   "outputs": [],
   "source": [
    "        agent_interface_format=features.AgentInterfaceFormat(\n",
    "            feature_dimensions=features.Dimensions(screen=84, minimap=64),\n",
    "            use_feature_units=True),"
   ]
  },
  {
   "cell_type": "markdown",
   "metadata": {},
   "source": [
    "- step() 안에 화면내 모든 드론 (일벌레)의 리스트를 포착"
   ]
  },
  {
   "cell_type": "code",
   "execution_count": 36,
   "metadata": {},
   "outputs": [],
   "source": [
    "def step(self, obs):\n",
    "    super(ZergAgent, self).step(obs)\n",
    "  \n",
    "    drones = [unit for unit in obs.observation.feature_units\n",
    "              if unit.unit_type == units.Zerg.Drone]\n",
    "    if len(drones) > 0:\n",
    "        drone = random.choice(drones)\n",
    "        return actions.FUNCTIONS.select_point(\"select_all_type\", (drone.x, drone.y))"
   ]
  },
  {
   "cell_type": "markdown",
   "metadata": {},
   "source": [
    "- 일벌레 중에 아무거나 하나 집기. 이것은 게임 내에서 <kbd>CTRL</kbd> + 클릭과 동일함"
   ]
  },
  {
   "cell_type": "markdown",
   "metadata": {},
   "source": [
    "### Build a Spawning Pool"
   ]
  },
  {
   "cell_type": "code",
   "execution_count": 37,
   "metadata": {},
   "outputs": [],
   "source": [
    "  def unit_type_is_selected(self, obs, unit_type):\n",
    "    if (len(obs.observation.single_select) > 0 and\n",
    "        obs.observation.single_select[0].unit_type == unit_type):\n",
    "      return True\n",
    "    \n",
    "    if (len(obs.observation.multi_select) > 0 and\n",
    "        obs.observation.multi_select[0].unit_type == unit_type):\n",
    "      return True\n",
    "    \n",
    "    return False"
   ]
  },
  {
   "cell_type": "markdown",
   "metadata": {},
   "source": [
    "- ```unit_type_is_selected()```는 리스트 중 첫번째 유닛이 원하는 타입인지 체크함\n",
    "- ```step()``` 에서 사용할 것임"
   ]
  },
  {
   "cell_type": "code",
   "execution_count": 42,
   "metadata": {},
   "outputs": [],
   "source": [
    "  def step(self, obs):\n",
    "    super(ZergAgent, self).step(obs)\n",
    "    \n",
    "    if self.unit_type_is_selected(obs, units.Zerg.Drone):\n",
    "        if (actions.FUNCTIONS.Build_SpawningPool_screen.id in \n",
    "          obs.observation.available_actions):\n",
    "                \n",
    "            x = random.randint(0, 83)\n",
    "            y = random.randint(0, 83)\n",
    "        \n",
    "        return actions.FUNCTIONS.Build_SpawningPool_screen(\"now\", (x, y))"
   ]
  },
  {
   "cell_type": "markdown",
   "metadata": {},
   "source": [
    "- 크립위이길 바라며 랜덤 포인트를 선정 --> 스포닝 풀을 짓기. \n",
    "- 몇 가지 상황이 있을 수 있음 (자원부족, 크립 위가 아님, 다른 건물과 겹침, 지상 유닛이 그 위에 있음 등)\n",
    "- 또한 스포닝 풀이 여러개 건설 가능한 관계로 무척 많은 스포닝 풀이 건설될 가능성도 있음. 이를 피하기 위해서 아래 코드를 사용"
   ]
  },
  {
   "cell_type": "code",
   "execution_count": 43,
   "metadata": {},
   "outputs": [],
   "source": [
    "  def get_units_by_type(self, obs, unit_type):\n",
    "    return [unit for unit in obs.observation.feature_units\n",
    "            if unit.unit_type == unit_type]"
   ]
  },
  {
   "cell_type": "markdown",
   "metadata": {},
   "source": [
    "- 그러한 결과는 아래와 같음\n",
    "```python\n",
    "    spawning_pools = self.get_units_by_type(obs, units.Zerg.SpawningPool)\n",
    "    if len(spawning_pools) == 0:\n",
    "      if self.unit_type_is_selected(obs, units.Zerg.Drone):\n",
    "        if (actions.FUNCTIONS.Build_SpawningPool_screen.id in \n",
    "            obs.observation.available_actions):\n",
    "          x = random.randint(0, 83)\n",
    "          y = random.randint(0, 83)\n",
    "          \n",
    "          return actions.FUNCTIONS.Build_SpawningPool_screen(\"now\", (x, y))\n",
    "        \n",
    "      drones = self.get_units_by_type(obs, units.Zerg.Drone)\n",
    "      if len(drones) > 0:\n",
    "        drone = random.choice(drones)\n",
    "\n",
    "        return actions.FUNCTIONS.select_point(\"select_all_type\", (drone.x,\n",
    "                                                                  drone.y))\n",
    "```\n",
    "- 전체 코드는 아래와 같음 (```> python zerg_agent_step4.py```)"
   ]
  },
  {
   "cell_type": "code",
   "execution_count": 45,
   "metadata": {},
   "outputs": [
    {
     "name": "stderr",
     "output_type": "stream",
     "text": [
      "FATAL Flags parsing error: Unknown command line flag 'f'\n",
      "Pass --helpshort or --helpfull to see help on flags.\n"
     ]
    },
    {
     "ename": "SystemExit",
     "evalue": "1",
     "output_type": "error",
     "traceback": [
      "An exception has occurred, use %tb to see the full traceback.\n",
      "\u001b[0;31mSystemExit\u001b[0m\u001b[0;31m:\u001b[0m 1\n"
     ]
    },
    {
     "name": "stderr",
     "output_type": "stream",
     "text": [
      "/Users/j/anaconda3/lib/python3.7/site-packages/IPython/core/interactiveshell.py:3275: UserWarning: To exit: use 'exit', 'quit', or Ctrl-D.\n",
      "  warn(\"To exit: use 'exit', 'quit', or Ctrl-D.\", stacklevel=1)\n"
     ]
    }
   ],
   "source": [
    "from pysc2.agents import base_agent\n",
    "from pysc2.env import sc2_env\n",
    "from pysc2.lib import actions, features, units\n",
    "from absl import app\n",
    "import random\n",
    "\n",
    "class ZergAgent(base_agent.BaseAgent):\n",
    "  def unit_type_is_selected(self, obs, unit_type):\n",
    "    if (len(obs.observation.single_select) > 0 and\n",
    "        obs.observation.single_select[0].unit_type == unit_type):\n",
    "      return True\n",
    "    \n",
    "    if (len(obs.observation.multi_select) > 0 and\n",
    "        obs.observation.multi_select[0].unit_type == unit_type):\n",
    "      return True\n",
    "    \n",
    "    return False\n",
    "\n",
    "  def get_units_by_type(self, obs, unit_type):\n",
    "    return [unit for unit in obs.observation.feature_units\n",
    "            if unit.unit_type == unit_type]\n",
    "  \n",
    "  def step(self, obs):\n",
    "    super(ZergAgent, self).step(obs)\n",
    "    \n",
    "    spawning_pools = self.get_units_by_type(obs, units.Zerg.SpawningPool)\n",
    "    if len(spawning_pools) == 0:\n",
    "      if self.unit_type_is_selected(obs, units.Zerg.Drone):\n",
    "        if (actions.FUNCTIONS.Build_SpawningPool_screen.id in \n",
    "            obs.observation.available_actions):\n",
    "          x = random.randint(0, 83)\n",
    "          y = random.randint(0, 83)\n",
    "          \n",
    "          return actions.FUNCTIONS.Build_SpawningPool_screen(\"now\", (x, y))\n",
    "    \n",
    "      drones = self.get_units_by_type(obs, units.Zerg.Drone)\n",
    "      if len(drones) > 0:\n",
    "        drone = random.choice(drones)\n",
    "\n",
    "        return actions.FUNCTIONS.select_point(\"select_all_type\", (drone.x,\n",
    "                                                                  drone.y))\n",
    "    \n",
    "    return actions.FUNCTIONS.no_op()\n",
    "\n",
    "def main(unused_argv):\n",
    "  agent = ZergAgent()\n",
    "  try:\n",
    "    while True:\n",
    "      with sc2_env.SC2Env(\n",
    "          map_name=\"AbyssalReef\",\n",
    "          players=[sc2_env.Agent(sc2_env.Race.zerg),\n",
    "                   sc2_env.Bot(sc2_env.Race.random,\n",
    "                               sc2_env.Difficulty.very_easy)],\n",
    "          agent_interface_format=features.AgentInterfaceFormat(\n",
    "              feature_dimensions=features.Dimensions(screen=84, minimap=64),\n",
    "              use_feature_units=True),\n",
    "          step_mul=16,\n",
    "          game_steps_per_episode=0,\n",
    "          visualize=True) as env:\n",
    "          \n",
    "        agent.setup(env.observation_spec(), env.action_spec())\n",
    "        \n",
    "        timesteps = env.reset()\n",
    "        agent.reset()\n",
    "        \n",
    "        while True:\n",
    "          step_actions = [agent.step(timesteps[0])]\n",
    "          if timesteps[0].last():\n",
    "            break\n",
    "          timesteps = env.step(step_actions)\n",
    "      \n",
    "  except KeyboardInterrupt:\n",
    "    pass\n",
    "  \n",
    "if __name__ == \"__main__\":\n",
    "  app.run(main)"
   ]
  },
  {
   "cell_type": "markdown",
   "metadata": {},
   "source": [
    "### Build Zerglings\n",
    "\n",
    "- 스포닝풀 (산란못)이 완성되면 저글링 만들 준비가 됨. \n",
    "- 저그유닛은 해처리(부화장)에서 시간마다 생성되는 라바(애벌래)를 선택하여 원하는 가능한 유닛을 변태하는 과정으로 생성이 진행됨\n",
    "- 따라서 이를 위해 필요한 첫 행동은 모든 라바를 선택하는 것임\n",
    "```python\n",
    "\n",
    "    larvae = self.get_units_by_type(obs, units.Zerg.Larva)\n",
    "    if len(larvae) > 0:\n",
    "      larva = random.choice(larvae)\n",
    "      \n",
    "      return actions.FUNCTIONS.select_point(\"select_all_type\",\n",
    "                                            (larva.x, larva.y))```\n",
    "- 저글링을 만드는 코드는 다음과 같이 설정\n",
    "```python\n",
    "\n",
    "    if self.unit_type_is_selected(obs, units.Zerg.Larva):\n",
    "      if (actions.FUNCTIONS.Train_Zergling_quick.id in \n",
    "          obs.observation.available_actions):\n",
    "        return actions.FUNCTIONS.Train_Zergling_quick(\"now\")\n",
    "```\n",
    "\n",
    "### Spawn More Overloads\n",
    "- 인구수가 부족할 경우 유닛 생성이 안되므로 저그의 인구수 증가를 위해 오버로드 (대군주)를 일부 변태시켜야 함\n",
    "```python\n",
    "\n",
    "      free_supply = (obs.observation.player.food_cap -\n",
    "                     obs.observation.player.food_used)\n",
    "      if free_supply == 0:\n",
    "        if (actions.FUNCTIONS.Train_Overlord_quick.id in\n",
    "            obs.observation.available_actions):\n",
    "          return actions.FUNCTIONS.Train_Overlord_quick(\"now\")\n",
    "```\n",
    "- 행동이 가능한지 체크하는 함수\n",
    "```python\n",
    "\n",
    "  def can_do(self, obs, action):\n",
    "    return action in obs.observation.available_actions\n",
    "```\n",
    "- 이 함수를 앞에서 사용했던 액션에 모두 적용 (불가능할 경우 하지 않게 하기 위해서임). 예를 들면:\n",
    "```python\n",
    "if self.can_do(obs, actions.FUNCTIONS.Build_SpawningPool_screen.id):\n",
    "```\n",
    "여기까지의 전체 코드는 다음과 같음. ```> python zerg_agent_step6.py```"
   ]
  },
  {
   "cell_type": "code",
   "execution_count": 47,
   "metadata": {},
   "outputs": [
    {
     "name": "stderr",
     "output_type": "stream",
     "text": [
      "FATAL Flags parsing error: Unknown command line flag 'f'\n",
      "Pass --helpshort or --helpfull to see help on flags.\n"
     ]
    },
    {
     "ename": "SystemExit",
     "evalue": "1",
     "output_type": "error",
     "traceback": [
      "An exception has occurred, use %tb to see the full traceback.\n",
      "\u001b[0;31mSystemExit\u001b[0m\u001b[0;31m:\u001b[0m 1\n"
     ]
    }
   ],
   "source": [
    "from pysc2.agents import base_agent\n",
    "from pysc2.env import sc2_env\n",
    "from pysc2.lib import actions, features, units\n",
    "from absl import app\n",
    "import random\n",
    "\n",
    "class ZergAgent(base_agent.BaseAgent):\n",
    "  def unit_type_is_selected(self, obs, unit_type):\n",
    "    if (len(obs.observation.single_select) > 0 and\n",
    "        obs.observation.single_select[0].unit_type == unit_type):\n",
    "      return True\n",
    "    \n",
    "    if (len(obs.observation.multi_select) > 0 and\n",
    "        obs.observation.multi_select[0].unit_type == unit_type):\n",
    "      return True\n",
    "    \n",
    "    return False\n",
    "\n",
    "  def get_units_by_type(self, obs, unit_type):\n",
    "    return [unit for unit in obs.observation.feature_units\n",
    "            if unit.unit_type == unit_type]\n",
    "  \n",
    "  def can_do(self, obs, action):\n",
    "    return action in obs.observation.available_actions\n",
    "\n",
    "  def step(self, obs):\n",
    "    super(ZergAgent, self).step(obs)\n",
    "    \n",
    "    spawning_pools = self.get_units_by_type(obs, units.Zerg.SpawningPool)\n",
    "    if len(spawning_pools) == 0:\n",
    "      if self.unit_type_is_selected(obs, units.Zerg.Drone):\n",
    "        if self.can_do(obs, actions.FUNCTIONS.Build_SpawningPool_screen.id):\n",
    "          x = random.randint(0, 83)\n",
    "          y = random.randint(0, 83)\n",
    "          \n",
    "          return actions.FUNCTIONS.Build_SpawningPool_screen(\"now\", (x, y))\n",
    "    \n",
    "      drones = self.get_units_by_type(obs, units.Zerg.Drone)\n",
    "      if len(drones) > 0:\n",
    "        drone = random.choice(drones)\n",
    "\n",
    "        return actions.FUNCTIONS.select_point(\"select_all_type\", (drone.x,\n",
    "                                                                  drone.y))\n",
    "    \n",
    "    if self.unit_type_is_selected(obs, units.Zerg.Larva):\n",
    "      free_supply = (obs.observation.player.food_cap -\n",
    "                     obs.observation.player.food_used)\n",
    "      if free_supply == 0:\n",
    "        if self.can_do(obs, actions.FUNCTIONS.Train_Overlord_quick.id):\n",
    "          return actions.FUNCTIONS.Train_Overlord_quick(\"now\")\n",
    "\n",
    "      if self.can_do(obs, actions.FUNCTIONS.Train_Zergling_quick.id):\n",
    "        return actions.FUNCTIONS.Train_Zergling_quick(\"now\")\n",
    "    \n",
    "    larvae = self.get_units_by_type(oba, units.Zerg.Larva)\n",
    "    if len(larvae) > 0:\n",
    "      larva = random.choice(larvae)\n",
    "      \n",
    "      return actions.FUNCTIONS.select_point(\"select_all_type\", (larva.x,\n",
    "                                                                larva.y))\n",
    "    \n",
    "    return actions.FUNCTIONS.no_op()\n",
    "\n",
    "def main(unused_argv):\n",
    "  agent = ZergAgent()\n",
    "  try:\n",
    "    while True:\n",
    "      with sc2_env.SC2Env(\n",
    "          map_name=\"AbyssalReef\",\n",
    "          players=[sc2_env.Agent(sc2_env.Race.zerg),\n",
    "                   sc2_env.Bot(sc2_env.Race.random,\n",
    "                               sc2_env.Difficulty.very_easy)],\n",
    "          agent_interface_format=features.AgentInterfaceFormat(\n",
    "              feature_dimensions=features.Dimensions(screen=84, minimap=64),\n",
    "              use_feature_units=True),\n",
    "          step_mul=16,\n",
    "          game_steps_per_episode=0,\n",
    "          visualize=True) as env:\n",
    "          \n",
    "        agent.setup(env.observation_spec(), env.action_spec())\n",
    "        \n",
    "        timesteps = env.reset()\n",
    "        agent.reset()\n",
    "        \n",
    "        while True:\n",
    "          step_actions = [agent.step(timesteps[0])]\n",
    "          if timesteps[0].last():\n",
    "            break\n",
    "          timesteps = env.step(step_actions)\n",
    "      \n",
    "  except KeyboardInterrupt:\n",
    "    pass\n",
    "  \n",
    "if __name__ == \"__main__\":\n",
    "  app.run(main)"
   ]
  },
  {
   "cell_type": "markdown",
   "metadata": {},
   "source": [
    "### Attack"
   ]
  },
  {
   "cell_type": "markdown",
   "metadata": {},
   "source": [
    "- 공격을 가기 전에 공격 대상 위치를 알아야 함. \n",
    "- 여기에서는 문제를 단순화하기 위해 좌상단 우하단에만 기지가 생성(어비셜 리프 기준. 오토메이톤은 다를 수 있음) 되므로 자기가 어느 위치인지만 파악하여 공격가는 것으로 함. \n",
    "- ```__init()__``` 생성하여 관련 변수 (```attack_coordinates```) 설정\n",
    "\n",
    "```python\n",
    "  def __init__(self):\n",
    "    super(ZergAgent, self).__init__()\n",
    "    \n",
    "    self.attack_coordinates = None\n",
    "```\n",
    "\n",
    "- ```step()``` 를 수정\n",
    "\n",
    "```python\n",
    "  def step(self, obs):\n",
    "    super(ZergAgent, self).step(obs)\n",
    "    \n",
    "    if obs.first():  # 첫 스텝이라면 ==> 우리 유닛들의 중심점 좌표를 구함\n",
    "      player_y, player_x = (obs.observation.feature_minimap.player_relative ==\n",
    "                            features.PlayerRelative.SELF).nonzero()\n",
    "      xmean = player_x.mean()\n",
    "      ymean = player_y.mean()\n",
    "      \n",
    "      if xmean <= 31 and ymean <= 31:\n",
    "        self.attack_coordinates = (49, 49)\n",
    "      else:\n",
    "        self.attack_coordinates = (12, 16)\n",
    "```\n",
    "\n",
    "- 공격 지시\n",
    "\n",
    "```python\n",
    "\n",
    "    zerglings = self.get_units_by_type(obs, units.Zerg.Zergling)\n",
    "    if len(zerglings) > 0:\n",
    "      if self.can_do(obs, actions.FUNCTIONS.select_army.id):\n",
    "        return actions.FUNCTIONS.select_army(\"select\")\n",
    "```\n",
    "\n",
    "- 하지만 이렇게 하면 뽑는 대로 공격감. 따라서 일정 수 이상 모인 뒤에 갈 필요가 있음\n",
    "\n",
    "```python\n",
    "\n",
    "    if len(zerglings) >= 10:\n",
    "```"
   ]
  },
  {
   "cell_type": "markdown",
   "metadata": {},
   "source": [
    "이 파트까지의 내용은 같은 폴더의 zerg_agent_step7.py 에 있음\n",
    "\n",
    "```>python zerg_agetn_step7.py```\n"
   ]
  },
  {
   "cell_type": "code",
   "execution_count": null,
   "metadata": {},
   "outputs": [],
   "source": []
  }
 ],
 "metadata": {
  "kernelspec": {
   "display_name": "Python 3",
   "language": "python",
   "name": "python3"
  },
  "language_info": {
   "codemirror_mode": {
    "name": "ipython",
    "version": 3
   },
   "file_extension": ".py",
   "mimetype": "text/x-python",
   "name": "python",
   "nbconvert_exporter": "python",
   "pygments_lexer": "ipython3",
   "version": "3.7.1"
  }
 },
 "nbformat": 4,
 "nbformat_minor": 2
}
